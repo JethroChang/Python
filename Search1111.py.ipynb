{
 "cells": [
  {
   "cell_type": "code",
   "execution_count": 28,
   "metadata": {},
   "outputs": [
    {
     "name": "stdout",
     "output_type": "stream",
     "text": [
      "[('C#.NET', 31), ('/C++', 27), ('C/C++', 26), ('JAVA', 25), ('ord', 22), ('Excel', 21), ('MS SQL', 18), ('ASP.NET', 17), ('Visual C++', 16), ('PowerPoint', 15), ('VB.NET', 14), ('INUX', 14), ('Java Script', 14), ('Outlook', 13), ('HTML', 13), ('PHP', 10), ('MySQL', 10), ('jQuery', 10), ('AVA', 10), ('IOS', 10)]\n"
     ]
    }
   ],
   "source": [
    "from collections import Counter\n",
    "from bs4 import BeautifulSoup\n",
    "import requests\n",
    "\n",
    "cnt = Counter()\n",
    "#keypage底下data-tot\n",
    "for i in range(1,10):\n",
    "    res = requests.get('https://www.1111.com.tw/job-bank/job-index.asp?si=1&ss=s&ks=軟體&page='+str(i))\n",
    "    res.text\n",
    "    soup = BeautifulSoup(res.text, 'lxml')\n",
    "    for hr in soup.select(\".jbInfoin > h3 > a\"):\n",
    "        cp = hr['href']\n",
    "        #print(cp)\n",
    "        res2 = requests.get('https:'+cp)    \n",
    "        soup=BeautifulSoup(res2.text,'lxml')\n",
    "        abc = []\n",
    "        for tr in soup.select(\".dataList > li\"):\n",
    "            #print(tr.text[:5])\n",
    "            if tr.text[:5] == \"電腦專長：\":        \n",
    "                #print(tr.text[6:])\n",
    "                for tr2 in tr.text[6:].split(\"、\"):           \n",
    "                    if tr2 in cnt:\n",
    "                        cnt[tr2]+=1\n",
    "                    else:\n",
    "                        cnt[tr2]=1                             \n",
    "            else:\n",
    "                pass\n",
    "print(cnt.most_common(20))     "
   ]
  }
 ],
 "metadata": {
  "kernelspec": {
   "display_name": "Python 3",
   "language": "python",
   "name": "python3"
  },
  "language_info": {
   "codemirror_mode": {
    "name": "ipython",
    "version": 3
   },
   "file_extension": ".py",
   "mimetype": "text/x-python",
   "name": "python",
   "nbconvert_exporter": "python",
   "pygments_lexer": "ipython3",
   "version": "3.6.1"
  }
 },
 "nbformat": 4,
 "nbformat_minor": 2
}
