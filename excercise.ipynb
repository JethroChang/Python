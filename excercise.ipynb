{
 "cells": [
  {
   "cell_type": "code",
   "execution_count": 2,
   "metadata": {},
   "outputs": [
    {
     "data": {
      "text/plain": [
       "'\\nthis can also be used as a comment\\nmulti line  comment\\n'"
      ]
     },
     "execution_count": 2,
     "metadata": {},
     "output_type": "execute_result"
    }
   ],
   "source": [
    "# I am a comment\n",
    "\"\"\"\n",
    "this can also be used as a comment\n",
    "multi line  comment\n",
    "\"\"\""
   ]
  },
  {
   "cell_type": "code",
   "execution_count": 1,
   "metadata": {},
   "outputs": [
    {
     "name": "stdout",
     "output_type": "stream",
     "text": [
      "HelloWorld\n"
     ]
    }
   ],
   "source": [
    "print(\"HelloWorld\")"
   ]
  },
  {
   "cell_type": "code",
   "execution_count": 2,
   "metadata": {},
   "outputs": [
    {
     "name": "stdout",
     "output_type": "stream",
     "text": [
      "123\n"
     ]
    }
   ],
   "source": [
    "print(123)"
   ]
  },
  {
   "cell_type": "code",
   "execution_count": 3,
   "metadata": {},
   "outputs": [
    {
     "data": {
      "text/plain": [
       "str"
      ]
     },
     "execution_count": 3,
     "metadata": {},
     "output_type": "execute_result"
    }
   ],
   "source": [
    "type(\"hello\")"
   ]
  },
  {
   "cell_type": "code",
   "execution_count": 4,
   "metadata": {},
   "outputs": [
    {
     "data": {
      "text/plain": [
       "64"
      ]
     },
     "execution_count": 4,
     "metadata": {},
     "output_type": "execute_result"
    }
   ],
   "source": [
    "4**3"
   ]
  },
  {
   "cell_type": "code",
   "execution_count": 5,
   "metadata": {},
   "outputs": [
    {
     "data": {
      "text/plain": [
       "1"
      ]
     },
     "execution_count": 5,
     "metadata": {},
     "output_type": "execute_result"
    }
   ],
   "source": [
    "13%4"
   ]
  },
  {
   "cell_type": "code",
   "execution_count": 6,
   "metadata": {},
   "outputs": [
    {
     "data": {
      "text/plain": [
       "True"
      ]
     },
     "execution_count": 6,
     "metadata": {},
     "output_type": "execute_result"
    }
   ],
   "source": [
    "True or True"
   ]
  },
  {
   "cell_type": "code",
   "execution_count": 7,
   "metadata": {},
   "outputs": [
    {
     "data": {
      "text/plain": [
       "True"
      ]
     },
     "execution_count": 7,
     "metadata": {},
     "output_type": "execute_result"
    }
   ],
   "source": [
    "not True is False"
   ]
  },
  {
   "cell_type": "code",
   "execution_count": 11,
   "metadata": {},
   "outputs": [
    {
     "name": "stdout",
     "output_type": "stream",
     "text": [
      "ok\n"
     ]
    }
   ],
   "source": [
    "#negative number is also truthy\n",
    "if -2:\n",
    "    print(\"ok\")"
   ]
  },
  {
   "cell_type": "code",
   "execution_count": 12,
   "metadata": {},
   "outputs": [
    {
     "name": "stdout",
     "output_type": "stream",
     "text": [
      "small int\n"
     ]
    }
   ],
   "source": [
    "x=3\n",
    "if x > 3: \n",
    "    print(\"grater than 3\") \n",
    "else: \n",
    "    print(\"small int\")"
   ]
  },
  {
   "cell_type": "code",
   "execution_count": 13,
   "metadata": {},
   "outputs": [
    {
     "name": "stdout",
     "output_type": "stream",
     "text": [
      "grater than 2\n"
     ]
    }
   ],
   "source": [
    "x=3\n",
    "if x>3:\n",
    "    print(\"grater than 3\")\n",
    "elif x>2:\n",
    "    print(\"grater than 2\")\n",
    "else:\n",
    "    print(\"small int\")"
   ]
  },
  {
   "cell_type": "code",
   "execution_count": 14,
   "metadata": {},
   "outputs": [
    {
     "data": {
      "text/plain": [
       "'p'"
      ]
     },
     "execution_count": 14,
     "metadata": {},
     "output_type": "execute_result"
    }
   ],
   "source": [
    "\"iphone\"[1]"
   ]
  },
  {
   "cell_type": "code",
   "execution_count": 21,
   "metadata": {},
   "outputs": [
    {
     "data": {
      "text/plain": [
       "'pho'"
      ]
     },
     "execution_count": 21,
     "metadata": {},
     "output_type": "execute_result"
    }
   ],
   "source": [
    "\"iphone\"[1:4] # i|p|h|o|n|e"
   ]
  },
  {
   "cell_type": "code",
   "execution_count": 20,
   "metadata": {},
   "outputs": [
    {
     "data": {
      "text/plain": [
       "'pn'"
      ]
     },
     "execution_count": 20,
     "metadata": {},
     "output_type": "execute_result"
    }
   ],
   "source": [
    "\"iphone\"[1:6:3]"
   ]
  },
  {
   "cell_type": "code",
   "execution_count": 17,
   "metadata": {},
   "outputs": [
    {
     "data": {
      "text/plain": [
       "'p'"
      ]
     },
     "execution_count": 17,
     "metadata": {},
     "output_type": "execute_result"
    }
   ],
   "source": [
    "\"iphone\"[1:4:3]"
   ]
  },
  {
   "cell_type": "code",
   "execution_count": 35,
   "metadata": {},
   "outputs": [
    {
     "data": {
      "text/plain": [
       "'18'"
      ]
     },
     "execution_count": 35,
     "metadata": {},
     "output_type": "execute_result"
    }
   ],
   "source": [
    "\"0123456789\"[1:9:7]"
   ]
  },
  {
   "cell_type": "code",
   "execution_count": 36,
   "metadata": {},
   "outputs": [
    {
     "data": {
      "text/plain": [
       "6"
      ]
     },
     "execution_count": 36,
     "metadata": {},
     "output_type": "execute_result"
    }
   ],
   "source": [
    "len(\"iphone\")"
   ]
  },
  {
   "cell_type": "code",
   "execution_count": 37,
   "metadata": {},
   "outputs": [
    {
     "data": {
      "text/plain": [
       "'3d print is 199 dollars'"
      ]
     },
     "execution_count": 37,
     "metadata": {},
     "output_type": "execute_result"
    }
   ],
   "source": [
    "\"3d print is {} dollars\".format(199)"
   ]
  },
  {
   "cell_type": "code",
   "execution_count": 39,
   "metadata": {},
   "outputs": [
    {
     "data": {
      "text/plain": [
       "'Tesla is 5000000 dollars in Taiwan,Taiwan is the most expensive'"
      ]
     },
     "execution_count": 39,
     "metadata": {},
     "output_type": "execute_result"
    }
   ],
   "source": [
    "#Code can be broken into multiple lines with\\\n",
    "\"{item} is {price} dollars in {country},\\\n",
    "{country} is the most expensive\"\\\n",
    ".format(item=\"Tesla\",\n",
    "       country=\"Taiwan\",\n",
    "       price=5000000)"
   ]
  },
  {
   "cell_type": "code",
   "execution_count": 40,
   "metadata": {},
   "outputs": [
    {
     "data": {
      "text/plain": [
       "'3d printer is 199 dollars'"
      ]
     },
     "execution_count": 40,
     "metadata": {},
     "output_type": "execute_result"
    }
   ],
   "source": [
    "\"3d printer is %s dollars\"%199"
   ]
  },
  {
   "cell_type": "code",
   "execution_count": 41,
   "metadata": {},
   "outputs": [
    {
     "name": "stdout",
     "output_type": "stream",
     "text": [
      "[DEBUG] my_buggy_var is 123\n"
     ]
    }
   ],
   "source": [
    "#use case\n",
    "#blah blah code\n",
    "my_buggy_var = 123\n",
    "print(\"[DEBUG] my_buggy_var is %s\"%my_buggy_var)\n",
    "# my code continue...."
   ]
  },
  {
   "cell_type": "code",
   "execution_count": 107,
   "metadata": {
    "collapsed": true
   },
   "outputs": [],
   "source": [
    "li=[]"
   ]
  },
  {
   "cell_type": "code",
   "execution_count": 115,
   "metadata": {
    "collapsed": true
   },
   "outputs": [],
   "source": [
    "li.append(\"3D printer\")"
   ]
  },
  {
   "cell_type": "code",
   "execution_count": 50,
   "metadata": {},
   "outputs": [],
   "source": [
    "li.append(\"cnc machine\")"
   ]
  },
  {
   "cell_type": "code",
   "execution_count": 51,
   "metadata": {
    "scrolled": true
   },
   "outputs": [
    {
     "data": {
      "text/plain": [
       "['3D printer', 'cnc machine']"
      ]
     },
     "execution_count": 51,
     "metadata": {},
     "output_type": "execute_result"
    }
   ],
   "source": [
    "li"
   ]
  },
  {
   "cell_type": "code",
   "execution_count": 52,
   "metadata": {},
   "outputs": [
    {
     "data": {
      "text/plain": [
       "'cnc machine'"
      ]
     },
     "execution_count": 52,
     "metadata": {},
     "output_type": "execute_result"
    }
   ],
   "source": [
    "li[1]"
   ]
  },
  {
   "cell_type": "code",
   "execution_count": 97,
   "metadata": {},
   "outputs": [
    {
     "data": {
      "text/plain": [
       "'python'"
      ]
     },
     "execution_count": 97,
     "metadata": {},
     "output_type": "execute_result"
    }
   ],
   "source": [
    "li.pop()"
   ]
  },
  {
   "cell_type": "code",
   "execution_count": 54,
   "metadata": {},
   "outputs": [
    {
     "data": {
      "text/plain": [
       "['3D printer']"
      ]
     },
     "execution_count": 54,
     "metadata": {},
     "output_type": "execute_result"
    }
   ],
   "source": [
    "li"
   ]
  },
  {
   "cell_type": "code",
   "execution_count": 108,
   "metadata": {},
   "outputs": [],
   "source": [
    "li.append(\"python\")"
   ]
  },
  {
   "cell_type": "code",
   "execution_count": 109,
   "metadata": {
    "collapsed": true
   },
   "outputs": [],
   "source": [
    "li.append(\"ruby\")"
   ]
  },
  {
   "cell_type": "code",
   "execution_count": 110,
   "metadata": {},
   "outputs": [],
   "source": [
    "li.append(\"cnc machine\")"
   ]
  },
  {
   "cell_type": "code",
   "execution_count": 101,
   "metadata": {},
   "outputs": [
    {
     "data": {
      "text/plain": [
       "['python', 'ruby', 'cnc machine']"
      ]
     },
     "execution_count": 101,
     "metadata": {},
     "output_type": "execute_result"
    }
   ],
   "source": [
    "li"
   ]
  },
  {
   "cell_type": "code",
   "execution_count": 102,
   "metadata": {},
   "outputs": [
    {
     "data": {
      "text/plain": [
       "['ruby', 'cnc machine']"
      ]
     },
     "execution_count": 102,
     "metadata": {},
     "output_type": "execute_result"
    }
   ],
   "source": [
    "li[1:]"
   ]
  },
  {
   "cell_type": "code",
   "execution_count": 103,
   "metadata": {},
   "outputs": [
    {
     "data": {
      "text/plain": [
       "['python', 'ruby']"
      ]
     },
     "execution_count": 103,
     "metadata": {},
     "output_type": "execute_result"
    }
   ],
   "source": [
    "li[:2]"
   ]
  },
  {
   "cell_type": "code",
   "execution_count": 104,
   "metadata": {},
   "outputs": [
    {
     "data": {
      "text/plain": [
       "['python', 'cnc machine']"
      ]
     },
     "execution_count": 104,
     "metadata": {},
     "output_type": "execute_result"
    }
   ],
   "source": [
    "li[::2]"
   ]
  },
  {
   "cell_type": "code",
   "execution_count": 105,
   "metadata": {},
   "outputs": [
    {
     "data": {
      "text/plain": [
       "['cnc machine', 'ruby', 'python']"
      ]
     },
     "execution_count": 105,
     "metadata": {},
     "output_type": "execute_result"
    }
   ],
   "source": [
    "li[::-1]"
   ]
  },
  {
   "cell_type": "code",
   "execution_count": 106,
   "metadata": {},
   "outputs": [
    {
     "data": {
      "text/plain": [
       "[1, 3, 5]"
      ]
     },
     "execution_count": 106,
     "metadata": {},
     "output_type": "execute_result"
    }
   ],
   "source": [
    "li=[0,1,2,3,4,5,6,7,8,9]\n",
    "li[1:6:2]\n",
    "# li[i:j:k] = t, 將索引值i 到j ，間隔 k 的元素指派為 t"
   ]
  },
  {
   "cell_type": "code",
   "execution_count": 111,
   "metadata": {
    "collapsed": true
   },
   "outputs": [],
   "source": [
    "del li[1]"
   ]
  },
  {
   "cell_type": "code",
   "execution_count": 112,
   "metadata": {},
   "outputs": [
    {
     "data": {
      "text/plain": [
       "['python', 'cnc machine']"
      ]
     },
     "execution_count": 112,
     "metadata": {},
     "output_type": "execute_result"
    }
   ],
   "source": [
    "li"
   ]
  },
  {
   "cell_type": "code",
   "execution_count": 113,
   "metadata": {
    "collapsed": true
   },
   "outputs": [],
   "source": [
    "li.insert(1,\"python\")"
   ]
  },
  {
   "cell_type": "code",
   "execution_count": 114,
   "metadata": {},
   "outputs": [
    {
     "data": {
      "text/plain": [
       "['python', 'python', 'cnc machine']"
      ]
     },
     "execution_count": 114,
     "metadata": {},
     "output_type": "execute_result"
    }
   ],
   "source": [
    "li"
   ]
  },
  {
   "cell_type": "code",
   "execution_count": 117,
   "metadata": {},
   "outputs": [
    {
     "data": {
      "text/plain": [
       "True"
      ]
     },
     "execution_count": 117,
     "metadata": {},
     "output_type": "execute_result"
    }
   ],
   "source": [
    "\"3D printer\" in li"
   ]
  },
  {
   "cell_type": "code",
   "execution_count": 118,
   "metadata": {},
   "outputs": [
    {
     "name": "stdout",
     "output_type": "stream",
     "text": [
      "I have a 3D printer\n"
     ]
    }
   ],
   "source": [
    "if \"3D printer\" in li:\n",
    "    print(\"I have a 3D printer\")"
   ]
  },
  {
   "cell_type": "code",
   "execution_count": 119,
   "metadata": {
    "collapsed": true
   },
   "outputs": [],
   "source": [
    "mydict = {}"
   ]
  },
  {
   "cell_type": "code",
   "execution_count": 120,
   "metadata": {},
   "outputs": [
    {
     "data": {
      "text/plain": [
       "dict"
      ]
     },
     "execution_count": 120,
     "metadata": {},
     "output_type": "execute_result"
    }
   ],
   "source": [
    "type(mydict)"
   ]
  },
  {
   "cell_type": "code",
   "execution_count": 121,
   "metadata": {
    "collapsed": true
   },
   "outputs": [],
   "source": [
    "mydict['name'] = \"Jethro\""
   ]
  },
  {
   "cell_type": "code",
   "execution_count": 122,
   "metadata": {},
   "outputs": [
    {
     "data": {
      "text/plain": [
       "{'name': 'Jethro'}"
      ]
     },
     "execution_count": 122,
     "metadata": {},
     "output_type": "execute_result"
    }
   ],
   "source": [
    "mydict"
   ]
  },
  {
   "cell_type": "code",
   "execution_count": 124,
   "metadata": {},
   "outputs": [],
   "source": [
    "printer = {\n",
    "    \"name\": \"Prusa i3 mk2\",\n",
    "    \"print speed\": 100,\n",
    "    \"country\":\"USA\",\n",
    "    \"features\":[\"laser cutting\",\"3d printing\",\"cnc milling\"],\n",
    "    \"price\": 300\n",
    "}"
   ]
  },
  {
   "cell_type": "code",
   "execution_count": 125,
   "metadata": {},
   "outputs": [
    {
     "data": {
      "text/plain": [
       "{'country': 'USA',\n",
       " 'features': ['laser cutting', '3d printing', 'cnc milling'],\n",
       " 'name': 'Prusa i3 mk2',\n",
       " 'price': 300,\n",
       " 'print speed': 100}"
      ]
     },
     "execution_count": 125,
     "metadata": {},
     "output_type": "execute_result"
    }
   ],
   "source": [
    "printer"
   ]
  },
  {
   "cell_type": "code",
   "execution_count": 126,
   "metadata": {},
   "outputs": [
    {
     "data": {
      "text/plain": [
       "'Prusa i3 mk2'"
      ]
     },
     "execution_count": 126,
     "metadata": {},
     "output_type": "execute_result"
    }
   ],
   "source": [
    "printer['name']"
   ]
  },
  {
   "cell_type": "code",
   "execution_count": 127,
   "metadata": {},
   "outputs": [
    {
     "data": {
      "text/plain": [
       "'USA'"
      ]
     },
     "execution_count": 127,
     "metadata": {},
     "output_type": "execute_result"
    }
   ],
   "source": [
    "printer['country']"
   ]
  },
  {
   "cell_type": "code",
   "execution_count": 128,
   "metadata": {
    "collapsed": true
   },
   "outputs": [],
   "source": [
    "# create\n",
    "printer['dimension'] = [220,220,240]"
   ]
  },
  {
   "cell_type": "code",
   "execution_count": 129,
   "metadata": {},
   "outputs": [
    {
     "data": {
      "text/plain": [
       "{'country': 'USA',\n",
       " 'dimension': [220, 220, 240],\n",
       " 'features': ['laser cutting', '3d printing', 'cnc milling'],\n",
       " 'name': 'Prusa i3 mk2',\n",
       " 'price': 300,\n",
       " 'print speed': 100}"
      ]
     },
     "execution_count": 129,
     "metadata": {},
     "output_type": "execute_result"
    }
   ],
   "source": [
    "printer"
   ]
  },
  {
   "cell_type": "code",
   "execution_count": 130,
   "metadata": {
    "collapsed": true
   },
   "outputs": [],
   "source": [
    "#update\n",
    "printer['country'] = 'Taiwan'"
   ]
  },
  {
   "cell_type": "code",
   "execution_count": 131,
   "metadata": {},
   "outputs": [
    {
     "data": {
      "text/plain": [
       "{'country': 'Taiwan',\n",
       " 'dimension': [220, 220, 240],\n",
       " 'features': ['laser cutting', '3d printing', 'cnc milling'],\n",
       " 'name': 'Prusa i3 mk2',\n",
       " 'price': 300,\n",
       " 'print speed': 100}"
      ]
     },
     "execution_count": 131,
     "metadata": {},
     "output_type": "execute_result"
    }
   ],
   "source": [
    "printer"
   ]
  },
  {
   "cell_type": "code",
   "execution_count": 132,
   "metadata": {
    "collapsed": true
   },
   "outputs": [],
   "source": [
    "#delete\n",
    "del printer['price']"
   ]
  },
  {
   "cell_type": "code",
   "execution_count": 133,
   "metadata": {},
   "outputs": [
    {
     "data": {
      "text/plain": [
       "{'country': 'Taiwan',\n",
       " 'dimension': [220, 220, 240],\n",
       " 'features': ['laser cutting', '3d printing', 'cnc milling'],\n",
       " 'name': 'Prusa i3 mk2',\n",
       " 'print speed': 100}"
      ]
     },
     "execution_count": 133,
     "metadata": {},
     "output_type": "execute_result"
    }
   ],
   "source": [
    "printer"
   ]
  },
  {
   "cell_type": "code",
   "execution_count": 134,
   "metadata": {},
   "outputs": [
    {
     "data": {
      "text/plain": [
       "True"
      ]
     },
     "execution_count": 134,
     "metadata": {},
     "output_type": "execute_result"
    }
   ],
   "source": [
    "# Look up keys in dict\n",
    "'name' in printer"
   ]
  },
  {
   "cell_type": "code",
   "execution_count": 135,
   "metadata": {},
   "outputs": [
    {
     "data": {
      "text/plain": [
       "False"
      ]
     },
     "execution_count": 135,
     "metadata": {},
     "output_type": "execute_result"
    }
   ],
   "source": [
    "#cannot Lookup values\n",
    "'Prusa i3 mk2' in printer"
   ]
  },
  {
   "cell_type": "code",
   "execution_count": 136,
   "metadata": {
    "collapsed": true
   },
   "outputs": [],
   "source": [
    "printer2 = {'dimensions': [220, 220, 240],\n",
    " 'features': ['laser cutting', '3d printing', 'cnc milling'],\n",
    " 'name': 'Prusa i3 mk2',\n",
    " 'print speed': 100}"
   ]
  },
  {
   "cell_type": "code",
   "execution_count": 137,
   "metadata": {},
   "outputs": [
    {
     "data": {
      "text/plain": [
       "{'dimensions': [220, 220, 240],\n",
       " 'features': ['laser cutting', '3d printing', 'cnc milling'],\n",
       " 'name': 'Prusa i3 mk2',\n",
       " 'print speed': 100}"
      ]
     },
     "execution_count": 137,
     "metadata": {},
     "output_type": "execute_result"
    }
   ],
   "source": [
    "printer2"
   ]
  },
  {
   "cell_type": "code",
   "execution_count": 138,
   "metadata": {
    "collapsed": true
   },
   "outputs": [],
   "source": [
    "del printer2['features']"
   ]
  },
  {
   "cell_type": "code",
   "execution_count": 139,
   "metadata": {},
   "outputs": [
    {
     "data": {
      "text/plain": [
       "{'dimensions': [220, 220, 240], 'name': 'Prusa i3 mk2', 'print speed': 100}"
      ]
     },
     "execution_count": 139,
     "metadata": {},
     "output_type": "execute_result"
    }
   ],
   "source": [
    "printer2"
   ]
  },
  {
   "cell_type": "code",
   "execution_count": 148,
   "metadata": {},
   "outputs": [
    {
     "data": {
      "text/plain": [
       "['laser cutting', '3d printing', 'cnc milling']"
      ]
     },
     "execution_count": 148,
     "metadata": {},
     "output_type": "execute_result"
    }
   ],
   "source": [
    "printer.get('features')"
   ]
  },
  {
   "cell_type": "code",
   "execution_count": 147,
   "metadata": {},
   "outputs": [
    {
     "data": {
      "text/plain": [
       "['laser cutting', '3d printing', 'cnc milling']"
      ]
     },
     "execution_count": 147,
     "metadata": {},
     "output_type": "execute_result"
    }
   ],
   "source": [
    "printer['features']"
   ]
  },
  {
   "cell_type": "code",
   "execution_count": 149,
   "metadata": {
    "collapsed": true
   },
   "outputs": [],
   "source": [
    "printer2.get('features')"
   ]
  },
  {
   "cell_type": "code",
   "execution_count": 151,
   "metadata": {},
   "outputs": [
    {
     "data": {
      "text/plain": [
       "'N/A'"
      ]
     },
     "execution_count": 151,
     "metadata": {},
     "output_type": "execute_result"
    }
   ],
   "source": [
    "printer2.get('features', 'N/A')"
   ]
  },
  {
   "cell_type": "code",
   "execution_count": 153,
   "metadata": {},
   "outputs": [
    {
     "data": {
      "text/plain": [
       "('Ian', 'Chen')"
      ]
     },
     "execution_count": 153,
     "metadata": {},
     "output_type": "execute_result"
    }
   ],
   "source": [
    "first_last = ('Ian','Chen')\n",
    "first_last"
   ]
  },
  {
   "cell_type": "code",
   "execution_count": 154,
   "metadata": {},
   "outputs": [
    {
     "data": {
      "text/plain": [
       "'Ian'"
      ]
     },
     "execution_count": 154,
     "metadata": {},
     "output_type": "execute_result"
    }
   ],
   "source": [
    "first_last[0]"
   ]
  },
  {
   "cell_type": "code",
   "execution_count": 156,
   "metadata": {},
   "outputs": [
    {
     "data": {
      "text/plain": [
       "'Chen'"
      ]
     },
     "execution_count": 156,
     "metadata": {},
     "output_type": "execute_result"
    }
   ],
   "source": [
    "first_last[1]"
   ]
  },
  {
   "cell_type": "code",
   "execution_count": 157,
   "metadata": {},
   "outputs": [
    {
     "ename": "TypeError",
     "evalue": "'tuple' object does not support item assignment",
     "output_type": "error",
     "traceback": [
      "\u001b[1;31m---------------------------------------------------------------------------\u001b[0m",
      "\u001b[1;31mTypeError\u001b[0m                                 Traceback (most recent call last)",
      "\u001b[1;32m<ipython-input-157-52636fdf6eb8>\u001b[0m in \u001b[0;36m<module>\u001b[1;34m()\u001b[0m\n\u001b[1;32m----> 1\u001b[1;33m \u001b[0mfirst_last\u001b[0m\u001b[1;33m[\u001b[0m\u001b[1;36m1\u001b[0m\u001b[1;33m]\u001b[0m \u001b[1;33m=\u001b[0m \u001b[1;34m'Lin'\u001b[0m\u001b[1;33m\u001b[0m\u001b[0m\n\u001b[0m",
      "\u001b[1;31mTypeError\u001b[0m: 'tuple' object does not support item assignment"
     ]
    }
   ],
   "source": [
    "first_last[1] = 'Lin'"
   ]
  },
  {
   "cell_type": "code",
   "execution_count": 158,
   "metadata": {
    "collapsed": true
   },
   "outputs": [],
   "source": [
    "myset = set()"
   ]
  },
  {
   "cell_type": "code",
   "execution_count": 159,
   "metadata": {
    "collapsed": true
   },
   "outputs": [],
   "source": [
    "myset.add(5)"
   ]
  },
  {
   "cell_type": "code",
   "execution_count": 160,
   "metadata": {},
   "outputs": [
    {
     "data": {
      "text/plain": [
       "{5}"
      ]
     },
     "execution_count": 160,
     "metadata": {},
     "output_type": "execute_result"
    }
   ],
   "source": [
    "myset"
   ]
  },
  {
   "cell_type": "code",
   "execution_count": 161,
   "metadata": {
    "collapsed": true
   },
   "outputs": [],
   "source": [
    "myset.add(1)"
   ]
  },
  {
   "cell_type": "code",
   "execution_count": 162,
   "metadata": {},
   "outputs": [
    {
     "data": {
      "text/plain": [
       "{1, 5}"
      ]
     },
     "execution_count": 162,
     "metadata": {},
     "output_type": "execute_result"
    }
   ],
   "source": [
    "myset"
   ]
  },
  {
   "cell_type": "code",
   "execution_count": 163,
   "metadata": {
    "collapsed": true
   },
   "outputs": [],
   "source": [
    "myset.add(5)"
   ]
  },
  {
   "cell_type": "code",
   "execution_count": 164,
   "metadata": {},
   "outputs": [
    {
     "data": {
      "text/plain": [
       "{1, 5}"
      ]
     },
     "execution_count": 164,
     "metadata": {},
     "output_type": "execute_result"
    }
   ],
   "source": [
    "myset"
   ]
  },
  {
   "cell_type": "code",
   "execution_count": 165,
   "metadata": {},
   "outputs": [
    {
     "data": {
      "text/plain": [
       "{1, 2}"
      ]
     },
     "execution_count": 165,
     "metadata": {},
     "output_type": "execute_result"
    }
   ],
   "source": [
    "{1,2,3,4} - {3,4,5} # different"
   ]
  },
  {
   "cell_type": "code",
   "execution_count": 166,
   "metadata": {},
   "outputs": [
    {
     "data": {
      "text/plain": [
       "{1, 2, 5}"
      ]
     },
     "execution_count": 166,
     "metadata": {},
     "output_type": "execute_result"
    }
   ],
   "source": [
    "{1,2,3,4} ^ {3,4,5} # symmetric diff"
   ]
  },
  {
   "cell_type": "code",
   "execution_count": 167,
   "metadata": {},
   "outputs": [
    {
     "data": {
      "text/plain": [
       "{3, 4}"
      ]
     },
     "execution_count": 167,
     "metadata": {},
     "output_type": "execute_result"
    }
   ],
   "source": [
    "{1,2,3,4} & {3,4,5} # intersection"
   ]
  },
  {
   "cell_type": "code",
   "execution_count": 168,
   "metadata": {},
   "outputs": [
    {
     "data": {
      "text/plain": [
       "{1, 2, 3, 4, 5}"
      ]
     },
     "execution_count": 168,
     "metadata": {},
     "output_type": "execute_result"
    }
   ],
   "source": [
    "{1,2,3,4} | {3,4,5} # union"
   ]
  },
  {
   "cell_type": "code",
   "execution_count": 169,
   "metadata": {},
   "outputs": [
    {
     "name": "stdout",
     "output_type": "stream",
     "text": [
      "It is feature 3d printing\n",
      "It is feature cnc milling\n",
      "It is feature laser cutting\n"
     ]
    }
   ],
   "source": [
    "for feature in [\"3d printing\", \"cnc milling\", \"laser cutting\"]:\n",
    "    print(\"It is feature %s\"%feature)"
   ]
  },
  {
   "cell_type": "code",
   "execution_count": 170,
   "metadata": {},
   "outputs": [
    {
     "name": "stdout",
     "output_type": "stream",
     "text": [
      "0\n",
      "1\n",
      "2\n",
      "3\n"
     ]
    }
   ],
   "source": [
    "for i in range(4):\n",
    "    print(i)"
   ]
  },
  {
   "cell_type": "code",
   "execution_count": 171,
   "metadata": {},
   "outputs": [
    {
     "name": "stdout",
     "output_type": "stream",
     "text": [
      "0\n",
      "1\n",
      "2\n",
      "3\n"
     ]
    }
   ],
   "source": [
    "for i in range(0,4):\n",
    "    print(i)"
   ]
  },
  {
   "cell_type": "code",
   "execution_count": 174,
   "metadata": {},
   "outputs": [
    {
     "name": "stdout",
     "output_type": "stream",
     "text": [
      "1\n",
      "2\n",
      "3\n"
     ]
    }
   ],
   "source": [
    "for i in range(1,4):\n",
    "    print(i)"
   ]
  },
  {
   "cell_type": "code",
   "execution_count": 175,
   "metadata": {},
   "outputs": [
    {
     "data": {
      "text/plain": [
       "range(0, 4)"
      ]
     },
     "execution_count": 175,
     "metadata": {},
     "output_type": "execute_result"
    }
   ],
   "source": [
    "range(4)"
   ]
  },
  {
   "cell_type": "code",
   "execution_count": 176,
   "metadata": {},
   "outputs": [
    {
     "data": {
      "text/plain": [
       "range"
      ]
     },
     "execution_count": 176,
     "metadata": {},
     "output_type": "execute_result"
    }
   ],
   "source": [
    "type(range(4))"
   ]
  },
  {
   "cell_type": "code",
   "execution_count": 177,
   "metadata": {},
   "outputs": [
    {
     "name": "stdout",
     "output_type": "stream",
     "text": [
      "0\n",
      "1\n",
      "2\n",
      "3\n"
     ]
    }
   ],
   "source": [
    "x = 0\n",
    "while True:\n",
    "    if x>3:\n",
    "        break\n",
    "    print(x)\n",
    "    x+=1"
   ]
  },
  {
   "cell_type": "code",
   "execution_count": 178,
   "metadata": {},
   "outputs": [
    {
     "name": "stdout",
     "output_type": "stream",
     "text": [
      "0\n",
      "1\n",
      "2\n",
      "3\n"
     ]
    }
   ],
   "source": [
    "x = 0\n",
    "while x<4:\n",
    "    print(x)\n",
    "    x += 1"
   ]
  },
  {
   "cell_type": "code",
   "execution_count": 179,
   "metadata": {},
   "outputs": [
    {
     "name": "stdout",
     "output_type": "stream",
     "text": [
      "crawLing website\n"
     ]
    }
   ],
   "source": [
    "# Simple retry mechanism\n",
    "retry = 0\n",
    "while retry < 4:\n",
    "    print('crawLing website')\n",
    "    is_success = 1 # Successfully get a web page\n",
    "    if is_success:\n",
    "        break\n",
    "    else:\n",
    "        retry += 1"
   ]
  },
  {
   "cell_type": "code",
   "execution_count": 180,
   "metadata": {
    "collapsed": true
   },
   "outputs": [],
   "source": [
    "mydict = {(\"Ian\", \"Chen\"): 1,\n",
    "          ('David','Chiu'): 2}"
   ]
  },
  {
   "cell_type": "code",
   "execution_count": 181,
   "metadata": {},
   "outputs": [
    {
     "data": {
      "text/plain": [
       "1"
      ]
     },
     "execution_count": 181,
     "metadata": {},
     "output_type": "execute_result"
    }
   ],
   "source": [
    "mydict[('Ian','Chen')]"
   ]
  },
  {
   "cell_type": "code",
   "execution_count": 183,
   "metadata": {},
   "outputs": [
    {
     "data": {
      "text/plain": [
       "2"
      ]
     },
     "execution_count": 183,
     "metadata": {},
     "output_type": "execute_result"
    }
   ],
   "source": [
    "mydict[('David','Chiu')]"
   ]
  },
  {
   "cell_type": "code",
   "execution_count": 185,
   "metadata": {},
   "outputs": [
    {
     "data": {
      "text/plain": [
       "['my', 'name', 'is', 'Jethro']"
      ]
     },
     "execution_count": 185,
     "metadata": {},
     "output_type": "execute_result"
    }
   ],
   "source": [
    "\"my name is Jethro\".split()"
   ]
  },
  {
   "cell_type": "code",
   "execution_count": 186,
   "metadata": {},
   "outputs": [
    {
     "data": {
      "text/plain": [
       "'is'"
      ]
     },
     "execution_count": 186,
     "metadata": {},
     "output_type": "execute_result"
    }
   ],
   "source": [
    "\"my name is Jethro\".split()[2]"
   ]
  },
  {
   "cell_type": "code",
   "execution_count": 188,
   "metadata": {},
   "outputs": [
    {
     "name": "stdout",
     "output_type": "stream",
     "text": [
      "my\n",
      "name\n",
      "is\n",
      "Jethro\n"
     ]
    }
   ],
   "source": [
    "for word in \"my name is Jethro\".split():\n",
    "    print (word)"
   ]
  },
  {
   "cell_type": "code",
   "execution_count": 189,
   "metadata": {},
   "outputs": [
    {
     "data": {
      "text/plain": [
       "['123', 'Jethro Chang']"
      ]
     },
     "execution_count": 189,
     "metadata": {},
     "output_type": "execute_result"
    }
   ],
   "source": [
    "\"123,Jethro Chang\".split(',')"
   ]
  },
  {
   "cell_type": "code",
   "execution_count": 190,
   "metadata": {},
   "outputs": [
    {
     "data": {
      "text/plain": [
       "'123-David Chiu-Jethro Chang'"
      ]
     },
     "execution_count": 190,
     "metadata": {},
     "output_type": "execute_result"
    }
   ],
   "source": [
    "\"-\".join([\"123\",\"David Chiu\",\"Jethro Chang\"])"
   ]
  },
  {
   "cell_type": "code",
   "execution_count": 191,
   "metadata": {},
   "outputs": [
    {
     "data": {
      "text/plain": [
       "'harry potter'"
      ]
     },
     "execution_count": 191,
     "metadata": {},
     "output_type": "execute_result"
    }
   ],
   "source": [
    "\"Harry Potter\".lower()"
   ]
  },
  {
   "cell_type": "code",
   "execution_count": 192,
   "metadata": {},
   "outputs": [
    {
     "data": {
      "text/plain": [
       "'HARRY PORTER'"
      ]
     },
     "execution_count": 192,
     "metadata": {},
     "output_type": "execute_result"
    }
   ],
   "source": [
    "\"Harry Porter\".upper()"
   ]
  },
  {
   "cell_type": "code",
   "execution_count": 193,
   "metadata": {},
   "outputs": [
    {
     "data": {
      "text/plain": [
       "'Harry Porter'"
      ]
     },
     "execution_count": 193,
     "metadata": {},
     "output_type": "execute_result"
    }
   ],
   "source": [
    "\"harry porter\".title()"
   ]
  },
  {
   "cell_type": "code",
   "execution_count": 196,
   "metadata": {},
   "outputs": [
    {
     "data": {
      "text/plain": [
       "'\\n\\n\\n\"Harry Porter\"\\n\\n\\n'"
      ]
     },
     "execution_count": 196,
     "metadata": {},
     "output_type": "execute_result"
    }
   ],
   "source": [
    "\"\"\"\n",
    "\n",
    "\n",
    "\"Harry Porter\"\n",
    "\n",
    "\n",
    "\"\"\""
   ]
  },
  {
   "cell_type": "code",
   "execution_count": 195,
   "metadata": {},
   "outputs": [
    {
     "data": {
      "text/plain": [
       "'\"Harry Porter\"'"
      ]
     },
     "execution_count": 195,
     "metadata": {},
     "output_type": "execute_result"
    }
   ],
   "source": [
    "\"\"\"\n",
    "\n",
    "\n",
    "\"Harry Porter\"\n",
    "\n",
    "\n",
    "\"\"\".strip()"
   ]
  },
  {
   "cell_type": "code",
   "execution_count": 198,
   "metadata": {},
   "outputs": [
    {
     "data": {
      "text/plain": [
       "'USA is good'"
      ]
     },
     "execution_count": 198,
     "metadata": {},
     "output_type": "execute_result"
    }
   ],
   "source": [
    "\"Japan is good\".replace(\"Japan\", \"USA\")"
   ]
  },
  {
   "cell_type": "code",
   "execution_count": 199,
   "metadata": {},
   "outputs": [
    {
     "data": {
      "text/plain": [
       "['※ 發信站: 批踢踢實業坊(ptt.cc), ', ' 223.139.18.149']"
      ]
     },
     "execution_count": 199,
     "metadata": {},
     "output_type": "execute_result"
    }
   ],
   "source": [
    "\"※ 發信站: 批踢踢實業坊(ptt.cc), 來自: 223.139.18.149\".split(\"來自:\")"
   ]
  },
  {
   "cell_type": "code",
   "execution_count": 201,
   "metadata": {},
   "outputs": [
    {
     "data": {
      "text/plain": [
       "' 223.139.18.149'"
      ]
     },
     "execution_count": 201,
     "metadata": {},
     "output_type": "execute_result"
    }
   ],
   "source": [
    "\"※ 發信站: 批踢踢實業坊(ptt.cc), 來自: 223.139.18.149\".split(\"來自:\")[1]"
   ]
  },
  {
   "cell_type": "code",
   "execution_count": 204,
   "metadata": {},
   "outputs": [
    {
     "data": {
      "text/plain": [
       "['※ ', ' 批踢踢實業坊(ptt.cc), 來自: 223.139.18.149']"
      ]
     },
     "execution_count": 204,
     "metadata": {},
     "output_type": "execute_result"
    }
   ],
   "source": [
    "\"※ 發信站: 批踢踢實業坊(ptt.cc), 來自: 223.139.18.149\".split(\"發信站:\")"
   ]
  },
  {
   "cell_type": "code",
   "execution_count": 205,
   "metadata": {},
   "outputs": [
    {
     "data": {
      "text/plain": [
       "' 批踢踢實業坊(ptt.cc), 來自: 223.139.18.149'"
      ]
     },
     "execution_count": 205,
     "metadata": {},
     "output_type": "execute_result"
    }
   ],
   "source": [
    "\"※ 發信站: 批踢踢實業坊(ptt.cc), 來自: 223.139.18.149\".split(\"發信站:\")[1]"
   ]
  },
  {
   "cell_type": "code",
   "execution_count": 207,
   "metadata": {},
   "outputs": [
    {
     "data": {
      "text/plain": [
       "' 批踢踢實業坊(ptt.cc), '"
      ]
     },
     "execution_count": 207,
     "metadata": {},
     "output_type": "execute_result"
    }
   ],
   "source": [
    "\"※ 發信站: 批踢踢實業坊(ptt.cc), 來自: 223.139.18.149\".split(\"發信站:\")[1].split(\"來自:\")[0]"
   ]
  },
  {
   "cell_type": "code",
   "execution_count": 208,
   "metadata": {
    "collapsed": true
   },
   "outputs": [],
   "source": [
    "f = open('./donald.txt','w')"
   ]
  },
  {
   "cell_type": "code",
   "execution_count": 214,
   "metadata": {},
   "outputs": [
    {
     "data": {
      "text/plain": [
       "_io.TextIOWrapper"
      ]
     },
     "execution_count": 214,
     "metadata": {},
     "output_type": "execute_result"
    }
   ],
   "source": [
    "type(f)"
   ]
  },
  {
   "cell_type": "code",
   "execution_count": 210,
   "metadata": {},
   "outputs": [
    {
     "data": {
      "text/plain": [
       "6"
      ]
     },
     "execution_count": 210,
     "metadata": {},
     "output_type": "execute_result"
    }
   ],
   "source": [
    "f.write(\"Stupid\")"
   ]
  },
  {
   "cell_type": "code",
   "execution_count": 213,
   "metadata": {
    "collapsed": true
   },
   "outputs": [],
   "source": [
    "f.close()"
   ]
  },
  {
   "cell_type": "code",
   "execution_count": 216,
   "metadata": {
    "collapsed": true
   },
   "outputs": [],
   "source": [
    "f2 = open('./donald.txt')"
   ]
  },
  {
   "cell_type": "code",
   "execution_count": 217,
   "metadata": {},
   "outputs": [
    {
     "data": {
      "text/plain": [
       "_io.TextIOWrapper"
      ]
     },
     "execution_count": 217,
     "metadata": {},
     "output_type": "execute_result"
    }
   ],
   "source": [
    "type(f2)"
   ]
  },
  {
   "cell_type": "code",
   "execution_count": 223,
   "metadata": {},
   "outputs": [
    {
     "data": {
      "text/plain": [
       "'Stupid'"
      ]
     },
     "execution_count": 223,
     "metadata": {},
     "output_type": "execute_result"
    }
   ],
   "source": [
    "quote = f2.read()\n",
    "quote"
   ]
  },
  {
   "cell_type": "code",
   "execution_count": 224,
   "metadata": {},
   "outputs": [],
   "source": [
    "f2.close()"
   ]
  },
  {
   "cell_type": "code",
   "execution_count": 227,
   "metadata": {
    "collapsed": true
   },
   "outputs": [],
   "source": [
    "speech = open('./donald_trump.txt', encoding = 'utf8')"
   ]
  },
  {
   "cell_type": "code",
   "execution_count": 228,
   "metadata": {},
   "outputs": [
    {
     "data": {
      "text/plain": [
       "\"Chief Justice Roberts, President Carter, President Clinton, President Bush, President Obama, fellow Americans, and people of the world: thank you.\\n\\nWe, the citizens of America, are now joined in a great national effort to rebuild our country and to restore its promise for all of our people.\\n\\nTogether, we will determine the course of America and the world for years to come.\\n\\nWe will face challenges. We will confront hardships. But we will get the job done.\\n\\nEvery four years, we gather on these steps to carry out the orderly and peaceful transfer of power, and we are grateful to President Obama and First Lady Michelle Obama for their gracious aid throughout this transition. They have been magnificent.\\n\\nToday’s ceremony, however, has very special meaning. Because today we are not merely transferring power from one Administration to another, or from one party to another – but we are transferring power from Washington, D.C. and giving it back to you, the American People.\\n\\nFor too long, a small group in our nation’s Capital has reaped the rewards of government while the people have borne the cost.\\n\\nWashington flourished – but the people did not share in its wealth.\\n\\nPoliticians prospered – but the jobs left, and the factories closed.\\n\\nThe establishment protected itself, but not the citizens of our country.\\n\\nTheir victories have not been your victories; their triumphs have not been your triumphs; and while they celebrated in our nation’s Capital, there was little to celebrate for struggling families all across our land.\\n\\nThat all changes – starting right here, and right now, because this moment is your moment: it belongs to you.\\n\\nIt belongs to everyone gathered here today and everyone watching all across America. \\n\\nThis is your day. This is your celebration.\\n\\nAnd this, the United States of America, is your country.\\n\\nWhat truly matters is not which party controls our government, but whether our government is controlled by the people.\\n\\nJanuary 20th 2017, will be remembered as the day the people became the rulers of this nation again. \\n\\nThe forgotten men and women of our country will be forgotten no longer.\\n\\nEveryone is listening to you now.\\n\\nYou came by the tens of millions to become part of a historic movement the likes of which the world has never seen before.\\n\\nAt the center of this movement is a crucial conviction: that a nation exists to serve its citizens.\\n\\nAmericans want great schools for their children, safe neighborhoods for their families, and good jobs for themselves.\\n\\nThese are the just and reasonable demands of a righteous public.\\n\\nBut for too many of our citizens, a different reality exists: Mothers and children trapped in poverty in our inner cities; rusted-out factories scattered like tombstones across the landscape of our nation; an education system, flush with cash, but which leaves our young and beautiful students deprived of knowledge; and the crime and gangs and drugs that have stolen too many lives and robbed our country of so much unrealized potential.\\n\\nThis American carnage stops right here and stops right now.\\n\\nWe are one nation – and their pain is our pain.  Their dreams are our dreams; and their success will be our success.  We share one heart, one home, and one glorious destiny.\\n\\nThe oath of office I take today is an oath of allegiance to all Americans.\\n\\nFor many decades, we’ve enriched foreign industry at the expense of American industry;\\n\\nSubsidized the armies of other countries while allowing for the very sad depletion of our military;\\n\\nWe've defended other nation’s borders while refusing to defend our own;\\n\\nAnd spent trillions of dollars overseas while America's infrastructure has fallen into disrepair and decay.\\n\\nWe’ve made other countries rich while the wealth, strength, and confidence of our country has disappeared over the horizon.\\n\\nOne by one, the factories shuttered and left our shores, with not even a thought about the millions upon millions of American workers left behind.\\n\\nThe wealth of our middle class has been ripped from their homes and then redistributed across the entire world.\\n\\nBut that is the past. And now we are looking only to the future.\\n\\nWe assembled here today are issuing a new decree to be heard in every city, in every foreign capital, and in every hall of power.\\n\\nFrom this day forward, a new vision will govern our land.\\n\\nFrom this moment on, it’s going to be America First.\\n\\nEvery decision on trade, on taxes, on immigration, on foreign affairs, will be made to benefit American workers and American families.\\n\\nWe must protect our borders from the ravages of other countries making our products, stealing our companies, and destroying our jobs.  Protection will lead to great prosperity and strength.\\n\\nI will fight for you with every breath in my body – and I will never, ever let you down.\\n\\nAmerica will start winning again, winning like never before.\\n\\nWe will bring back our jobs. We will bring back our borders.  We will bring back our wealth.  And we will bring back our dreams.\\n\\nWe will build new roads, and highways, and bridges, and airports, and tunnels, and railways all across our wonderful nation.\\n\\nWe will get our people off of welfare and back to work – rebuilding our country with American hands and American labor.\\n\\nWe will follow two simple rules: Buy American and Hire American.\\n\\nWe will seek friendship and goodwill with the nations of the world – but we do so with the understanding that it is the right of all nations to put their own interests first.\\n\\nWe do not seek to impose our way of life on anyone, but rather to let it shine as an example for everyone to follow.\\n\\nWe will reinforce old alliances and form new ones – and unite the civilized world against Radical Islamic Terrorism, which we will eradicate completely from the face of the Earth.\\n\\nAt the bedrock of our politics will be a total allegiance to the United States of America, and through our loyalty to our country, we will rediscover our loyalty to each other.\\n\\nWhen you open your heart to patriotism, there is no room for prejudice.\\n\\nThe Bible tells us, “how good and pleasant it is when God’s people live together in unity.”\\n\\nWe must speak our minds openly, debate our disagreements honestly, but always pursue solidarity.\\n\\nWhen America is united, America is totally unstoppable.\\n\\nThere should be no fear – we are protected, and we will always be protected.\\n\\nWe will be protected by the great men and women of our military and law enforcement and, most importantly, we are protected by God.\\n\\nFinally, we must think big and dream even bigger.\\n\\nIn America, we understand that a nation is only living as long as it is striving.\\n\\nWe will no longer accept politicians who are all talk and no action – constantly complaining but never doing anything about it.\\n\\nThe time for empty talk is over.\\n\\nNow arrives the hour of action.\\n\\nDo not let anyone tell you it cannot be done.  No challenge can match the heart and fight and spirit of America.\\n\\nWe will not fail. Our country will thrive and prosper again.\\n\\nWe stand at the birth of a new millennium, ready to unlock the mysteries of space, to free the Earth from the miseries of disease, and to harness the energies, industries and technologies of tomorrow.\\n\\nA new national pride will stir our souls, lift our sights, and heal our divisions.\\n\\nIt is time to remember that old wisdom our soldiers will never forget: that whether we are black or brown or white, we all bleed the same red blood of patriots, we all enjoy the same glorious freedoms, and we all salute the same great American Flag.\\n\\nAnd whether a child is born in the urban sprawl of Detroit or the windswept plains of Nebraska, they look up at the same night sky, they fill their heart with the same dreams, and they are infused with the breath of life by the same almighty Creator.\\n\\nSo to all Americans, in every city near and far, small and large, from mountain to mountain, and from ocean to ocean, hear these words:\\n\\nYou will never be ignored again.\\n\\nYour voice, your hopes, and your dreams, will define our American destiny. And your courage and goodness and love will forever guide us along the way.\\n\\nTogether, We Will Make America Strong Again.\\n\\nWe Will Make America Wealthy Again.\\n\\nWe Will Make America Proud Again.\\n\\nWe Will Make America Safe Again.\\n\\nAnd, Yes, Together, We Will Make America Great Again. Thank you, God Bless You, And God Bless America.\\n\""
      ]
     },
     "execution_count": 228,
     "metadata": {},
     "output_type": "execute_result"
    }
   ],
   "source": [
    "speech.read()"
   ]
  },
  {
   "cell_type": "code",
   "execution_count": 232,
   "metadata": {},
   "outputs": [
    {
     "data": {
      "text/plain": [
       "0"
      ]
     },
     "execution_count": 232,
     "metadata": {},
     "output_type": "execute_result"
    }
   ],
   "source": [
    "speech.seek(0)"
   ]
  },
  {
   "cell_type": "code",
   "execution_count": 230,
   "metadata": {},
   "outputs": [
    {
     "data": {
      "text/plain": [
       "['Chief Justice Roberts, President Carter, President Clinton, President Bush, President Obama, fellow Americans, and people of the world: thank you.\\n',\n",
       " '\\n',\n",
       " 'We, the citizens of America, are now joined in a great national effort to rebuild our country and to restore its promise for all of our people.\\n',\n",
       " '\\n',\n",
       " 'Together, we will determine the course of America and the world for years to come.\\n',\n",
       " '\\n',\n",
       " 'We will face challenges. We will confront hardships. But we will get the job done.\\n',\n",
       " '\\n',\n",
       " 'Every four years, we gather on these steps to carry out the orderly and peaceful transfer of power, and we are grateful to President Obama and First Lady Michelle Obama for their gracious aid throughout this transition. They have been magnificent.\\n',\n",
       " '\\n',\n",
       " 'Today’s ceremony, however, has very special meaning. Because today we are not merely transferring power from one Administration to another, or from one party to another – but we are transferring power from Washington, D.C. and giving it back to you, the American People.\\n',\n",
       " '\\n',\n",
       " 'For too long, a small group in our nation’s Capital has reaped the rewards of government while the people have borne the cost.\\n',\n",
       " '\\n',\n",
       " 'Washington flourished – but the people did not share in its wealth.\\n',\n",
       " '\\n',\n",
       " 'Politicians prospered – but the jobs left, and the factories closed.\\n',\n",
       " '\\n',\n",
       " 'The establishment protected itself, but not the citizens of our country.\\n',\n",
       " '\\n',\n",
       " 'Their victories have not been your victories; their triumphs have not been your triumphs; and while they celebrated in our nation’s Capital, there was little to celebrate for struggling families all across our land.\\n',\n",
       " '\\n',\n",
       " 'That all changes – starting right here, and right now, because this moment is your moment: it belongs to you.\\n',\n",
       " '\\n',\n",
       " 'It belongs to everyone gathered here today and everyone watching all across America. \\n',\n",
       " '\\n',\n",
       " 'This is your day. This is your celebration.\\n',\n",
       " '\\n',\n",
       " 'And this, the United States of America, is your country.\\n',\n",
       " '\\n',\n",
       " 'What truly matters is not which party controls our government, but whether our government is controlled by the people.\\n',\n",
       " '\\n',\n",
       " 'January 20th 2017, will be remembered as the day the people became the rulers of this nation again. \\n',\n",
       " '\\n',\n",
       " 'The forgotten men and women of our country will be forgotten no longer.\\n',\n",
       " '\\n',\n",
       " 'Everyone is listening to you now.\\n',\n",
       " '\\n',\n",
       " 'You came by the tens of millions to become part of a historic movement the likes of which the world has never seen before.\\n',\n",
       " '\\n',\n",
       " 'At the center of this movement is a crucial conviction: that a nation exists to serve its citizens.\\n',\n",
       " '\\n',\n",
       " 'Americans want great schools for their children, safe neighborhoods for their families, and good jobs for themselves.\\n',\n",
       " '\\n',\n",
       " 'These are the just and reasonable demands of a righteous public.\\n',\n",
       " '\\n',\n",
       " 'But for too many of our citizens, a different reality exists: Mothers and children trapped in poverty in our inner cities; rusted-out factories scattered like tombstones across the landscape of our nation; an education system, flush with cash, but which leaves our young and beautiful students deprived of knowledge; and the crime and gangs and drugs that have stolen too many lives and robbed our country of so much unrealized potential.\\n',\n",
       " '\\n',\n",
       " 'This American carnage stops right here and stops right now.\\n',\n",
       " '\\n',\n",
       " 'We are one nation – and their pain is our pain.  Their dreams are our dreams; and their success will be our success.  We share one heart, one home, and one glorious destiny.\\n',\n",
       " '\\n',\n",
       " 'The oath of office I take today is an oath of allegiance to all Americans.\\n',\n",
       " '\\n',\n",
       " 'For many decades, we’ve enriched foreign industry at the expense of American industry;\\n',\n",
       " '\\n',\n",
       " 'Subsidized the armies of other countries while allowing for the very sad depletion of our military;\\n',\n",
       " '\\n',\n",
       " \"We've defended other nation’s borders while refusing to defend our own;\\n\",\n",
       " '\\n',\n",
       " \"And spent trillions of dollars overseas while America's infrastructure has fallen into disrepair and decay.\\n\",\n",
       " '\\n',\n",
       " 'We’ve made other countries rich while the wealth, strength, and confidence of our country has disappeared over the horizon.\\n',\n",
       " '\\n',\n",
       " 'One by one, the factories shuttered and left our shores, with not even a thought about the millions upon millions of American workers left behind.\\n',\n",
       " '\\n',\n",
       " 'The wealth of our middle class has been ripped from their homes and then redistributed across the entire world.\\n',\n",
       " '\\n',\n",
       " 'But that is the past. And now we are looking only to the future.\\n',\n",
       " '\\n',\n",
       " 'We assembled here today are issuing a new decree to be heard in every city, in every foreign capital, and in every hall of power.\\n',\n",
       " '\\n',\n",
       " 'From this day forward, a new vision will govern our land.\\n',\n",
       " '\\n',\n",
       " 'From this moment on, it’s going to be America First.\\n',\n",
       " '\\n',\n",
       " 'Every decision on trade, on taxes, on immigration, on foreign affairs, will be made to benefit American workers and American families.\\n',\n",
       " '\\n',\n",
       " 'We must protect our borders from the ravages of other countries making our products, stealing our companies, and destroying our jobs.  Protection will lead to great prosperity and strength.\\n',\n",
       " '\\n',\n",
       " 'I will fight for you with every breath in my body – and I will never, ever let you down.\\n',\n",
       " '\\n',\n",
       " 'America will start winning again, winning like never before.\\n',\n",
       " '\\n',\n",
       " 'We will bring back our jobs. We will bring back our borders.  We will bring back our wealth.  And we will bring back our dreams.\\n',\n",
       " '\\n',\n",
       " 'We will build new roads, and highways, and bridges, and airports, and tunnels, and railways all across our wonderful nation.\\n',\n",
       " '\\n',\n",
       " 'We will get our people off of welfare and back to work – rebuilding our country with American hands and American labor.\\n',\n",
       " '\\n',\n",
       " 'We will follow two simple rules: Buy American and Hire American.\\n',\n",
       " '\\n',\n",
       " 'We will seek friendship and goodwill with the nations of the world – but we do so with the understanding that it is the right of all nations to put their own interests first.\\n',\n",
       " '\\n',\n",
       " 'We do not seek to impose our way of life on anyone, but rather to let it shine as an example for everyone to follow.\\n',\n",
       " '\\n',\n",
       " 'We will reinforce old alliances and form new ones – and unite the civilized world against Radical Islamic Terrorism, which we will eradicate completely from the face of the Earth.\\n',\n",
       " '\\n',\n",
       " 'At the bedrock of our politics will be a total allegiance to the United States of America, and through our loyalty to our country, we will rediscover our loyalty to each other.\\n',\n",
       " '\\n',\n",
       " 'When you open your heart to patriotism, there is no room for prejudice.\\n',\n",
       " '\\n',\n",
       " 'The Bible tells us, “how good and pleasant it is when God’s people live together in unity.”\\n',\n",
       " '\\n',\n",
       " 'We must speak our minds openly, debate our disagreements honestly, but always pursue solidarity.\\n',\n",
       " '\\n',\n",
       " 'When America is united, America is totally unstoppable.\\n',\n",
       " '\\n',\n",
       " 'There should be no fear – we are protected, and we will always be protected.\\n',\n",
       " '\\n',\n",
       " 'We will be protected by the great men and women of our military and law enforcement and, most importantly, we are protected by God.\\n',\n",
       " '\\n',\n",
       " 'Finally, we must think big and dream even bigger.\\n',\n",
       " '\\n',\n",
       " 'In America, we understand that a nation is only living as long as it is striving.\\n',\n",
       " '\\n',\n",
       " 'We will no longer accept politicians who are all talk and no action – constantly complaining but never doing anything about it.\\n',\n",
       " '\\n',\n",
       " 'The time for empty talk is over.\\n',\n",
       " '\\n',\n",
       " 'Now arrives the hour of action.\\n',\n",
       " '\\n',\n",
       " 'Do not let anyone tell you it cannot be done.  No challenge can match the heart and fight and spirit of America.\\n',\n",
       " '\\n',\n",
       " 'We will not fail. Our country will thrive and prosper again.\\n',\n",
       " '\\n',\n",
       " 'We stand at the birth of a new millennium, ready to unlock the mysteries of space, to free the Earth from the miseries of disease, and to harness the energies, industries and technologies of tomorrow.\\n',\n",
       " '\\n',\n",
       " 'A new national pride will stir our souls, lift our sights, and heal our divisions.\\n',\n",
       " '\\n',\n",
       " 'It is time to remember that old wisdom our soldiers will never forget: that whether we are black or brown or white, we all bleed the same red blood of patriots, we all enjoy the same glorious freedoms, and we all salute the same great American Flag.\\n',\n",
       " '\\n',\n",
       " 'And whether a child is born in the urban sprawl of Detroit or the windswept plains of Nebraska, they look up at the same night sky, they fill their heart with the same dreams, and they are infused with the breath of life by the same almighty Creator.\\n',\n",
       " '\\n',\n",
       " 'So to all Americans, in every city near and far, small and large, from mountain to mountain, and from ocean to ocean, hear these words:\\n',\n",
       " '\\n',\n",
       " 'You will never be ignored again.\\n',\n",
       " '\\n',\n",
       " 'Your voice, your hopes, and your dreams, will define our American destiny. And your courage and goodness and love will forever guide us along the way.\\n',\n",
       " '\\n',\n",
       " 'Together, We Will Make America Strong Again.\\n',\n",
       " '\\n',\n",
       " 'We Will Make America Wealthy Again.\\n',\n",
       " '\\n',\n",
       " 'We Will Make America Proud Again.\\n',\n",
       " '\\n',\n",
       " 'We Will Make America Safe Again.\\n',\n",
       " '\\n',\n",
       " 'And, Yes, Together, We Will Make America Great Again. Thank you, God Bless You, And God Bless America.\\n']"
      ]
     },
     "execution_count": 230,
     "metadata": {},
     "output_type": "execute_result"
    }
   ],
   "source": [
    "speech.readlines()"
   ]
  },
  {
   "cell_type": "code",
   "execution_count": 233,
   "metadata": {},
   "outputs": [
    {
     "name": "stdout",
     "output_type": "stream",
     "text": [
      "Chief Justice Roberts, President Carter, President Clinton, President Bush, President Obama, fellow Americans, and people of the world: thank you.\n",
      "--------------------------------------------------\n",
      "\n",
      "--------------------------------------------------\n",
      "We, the citizens of America, are now joined in a great national effort to rebuild our country and to restore its promise for all of our people.\n",
      "--------------------------------------------------\n",
      "\n",
      "--------------------------------------------------\n",
      "Together, we will determine the course of America and the world for years to come.\n",
      "--------------------------------------------------\n",
      "\n",
      "--------------------------------------------------\n",
      "We will face challenges. We will confront hardships. But we will get the job done.\n",
      "--------------------------------------------------\n",
      "\n",
      "--------------------------------------------------\n",
      "Every four years, we gather on these steps to carry out the orderly and peaceful transfer of power, and we are grateful to President Obama and First Lady Michelle Obama for their gracious aid throughout this transition. They have been magnificent.\n",
      "--------------------------------------------------\n",
      "\n",
      "--------------------------------------------------\n",
      "Today’s ceremony, however, has very special meaning. Because today we are not merely transferring power from one Administration to another, or from one party to another – but we are transferring power from Washington, D.C. and giving it back to you, the American People.\n",
      "--------------------------------------------------\n",
      "\n",
      "--------------------------------------------------\n",
      "For too long, a small group in our nation’s Capital has reaped the rewards of government while the people have borne the cost.\n",
      "--------------------------------------------------\n",
      "\n",
      "--------------------------------------------------\n",
      "Washington flourished – but the people did not share in its wealth.\n",
      "--------------------------------------------------\n",
      "\n",
      "--------------------------------------------------\n",
      "Politicians prospered – but the jobs left, and the factories closed.\n",
      "--------------------------------------------------\n",
      "\n",
      "--------------------------------------------------\n",
      "The establishment protected itself, but not the citizens of our country.\n",
      "--------------------------------------------------\n",
      "\n",
      "--------------------------------------------------\n",
      "Their victories have not been your victories; their triumphs have not been your triumphs; and while they celebrated in our nation’s Capital, there was little to celebrate for struggling families all across our land.\n",
      "--------------------------------------------------\n",
      "\n",
      "--------------------------------------------------\n",
      "That all changes – starting right here, and right now, because this moment is your moment: it belongs to you.\n",
      "--------------------------------------------------\n",
      "\n",
      "--------------------------------------------------\n",
      "It belongs to everyone gathered here today and everyone watching all across America.\n",
      "--------------------------------------------------\n",
      "\n",
      "--------------------------------------------------\n",
      "This is your day. This is your celebration.\n",
      "--------------------------------------------------\n",
      "\n",
      "--------------------------------------------------\n",
      "And this, the United States of America, is your country.\n",
      "--------------------------------------------------\n",
      "\n",
      "--------------------------------------------------\n",
      "What truly matters is not which party controls our government, but whether our government is controlled by the people.\n",
      "--------------------------------------------------\n",
      "\n",
      "--------------------------------------------------\n",
      "January 20th 2017, will be remembered as the day the people became the rulers of this nation again.\n",
      "--------------------------------------------------\n",
      "\n",
      "--------------------------------------------------\n",
      "The forgotten men and women of our country will be forgotten no longer.\n",
      "--------------------------------------------------\n",
      "\n",
      "--------------------------------------------------\n",
      "Everyone is listening to you now.\n",
      "--------------------------------------------------\n",
      "\n",
      "--------------------------------------------------\n",
      "You came by the tens of millions to become part of a historic movement the likes of which the world has never seen before.\n",
      "--------------------------------------------------\n",
      "\n",
      "--------------------------------------------------\n",
      "At the center of this movement is a crucial conviction: that a nation exists to serve its citizens.\n",
      "--------------------------------------------------\n",
      "\n",
      "--------------------------------------------------\n",
      "Americans want great schools for their children, safe neighborhoods for their families, and good jobs for themselves.\n",
      "--------------------------------------------------\n",
      "\n",
      "--------------------------------------------------\n",
      "These are the just and reasonable demands of a righteous public.\n",
      "--------------------------------------------------\n",
      "\n",
      "--------------------------------------------------\n",
      "But for too many of our citizens, a different reality exists: Mothers and children trapped in poverty in our inner cities; rusted-out factories scattered like tombstones across the landscape of our nation; an education system, flush with cash, but which leaves our young and beautiful students deprived of knowledge; and the crime and gangs and drugs that have stolen too many lives and robbed our country of so much unrealized potential.\n",
      "--------------------------------------------------\n",
      "\n",
      "--------------------------------------------------\n",
      "This American carnage stops right here and stops right now.\n",
      "--------------------------------------------------\n",
      "\n",
      "--------------------------------------------------\n",
      "We are one nation – and their pain is our pain.  Their dreams are our dreams; and their success will be our success.  We share one heart, one home, and one glorious destiny.\n",
      "--------------------------------------------------\n",
      "\n",
      "--------------------------------------------------\n",
      "The oath of office I take today is an oath of allegiance to all Americans.\n",
      "--------------------------------------------------\n",
      "\n",
      "--------------------------------------------------\n",
      "For many decades, we’ve enriched foreign industry at the expense of American industry;\n",
      "--------------------------------------------------\n",
      "\n",
      "--------------------------------------------------\n",
      "Subsidized the armies of other countries while allowing for the very sad depletion of our military;\n",
      "--------------------------------------------------\n",
      "\n",
      "--------------------------------------------------\n",
      "We've defended other nation’s borders while refusing to defend our own;\n",
      "--------------------------------------------------\n",
      "\n",
      "--------------------------------------------------\n",
      "And spent trillions of dollars overseas while America's infrastructure has fallen into disrepair and decay.\n",
      "--------------------------------------------------\n",
      "\n",
      "--------------------------------------------------\n",
      "We’ve made other countries rich while the wealth, strength, and confidence of our country has disappeared over the horizon.\n",
      "--------------------------------------------------\n",
      "\n",
      "--------------------------------------------------\n",
      "One by one, the factories shuttered and left our shores, with not even a thought about the millions upon millions of American workers left behind.\n",
      "--------------------------------------------------\n",
      "\n",
      "--------------------------------------------------\n",
      "The wealth of our middle class has been ripped from their homes and then redistributed across the entire world.\n",
      "--------------------------------------------------\n",
      "\n",
      "--------------------------------------------------\n",
      "But that is the past. And now we are looking only to the future.\n",
      "--------------------------------------------------\n",
      "\n",
      "--------------------------------------------------\n",
      "We assembled here today are issuing a new decree to be heard in every city, in every foreign capital, and in every hall of power.\n",
      "--------------------------------------------------\n",
      "\n",
      "--------------------------------------------------\n",
      "From this day forward, a new vision will govern our land.\n",
      "--------------------------------------------------\n",
      "\n",
      "--------------------------------------------------\n",
      "From this moment on, it’s going to be America First.\n",
      "--------------------------------------------------\n",
      "\n",
      "--------------------------------------------------\n",
      "Every decision on trade, on taxes, on immigration, on foreign affairs, will be made to benefit American workers and American families.\n",
      "--------------------------------------------------\n",
      "\n",
      "--------------------------------------------------\n",
      "We must protect our borders from the ravages of other countries making our products, stealing our companies, and destroying our jobs.  Protection will lead to great prosperity and strength.\n",
      "--------------------------------------------------\n",
      "\n",
      "--------------------------------------------------\n",
      "I will fight for you with every breath in my body – and I will never, ever let you down.\n",
      "--------------------------------------------------\n",
      "\n",
      "--------------------------------------------------\n",
      "America will start winning again, winning like never before.\n",
      "--------------------------------------------------\n",
      "\n",
      "--------------------------------------------------\n",
      "We will bring back our jobs. We will bring back our borders.  We will bring back our wealth.  And we will bring back our dreams.\n",
      "--------------------------------------------------\n",
      "\n",
      "--------------------------------------------------\n",
      "We will build new roads, and highways, and bridges, and airports, and tunnels, and railways all across our wonderful nation.\n",
      "--------------------------------------------------\n",
      "\n",
      "--------------------------------------------------\n",
      "We will get our people off of welfare and back to work – rebuilding our country with American hands and American labor.\n",
      "--------------------------------------------------\n",
      "\n",
      "--------------------------------------------------\n",
      "We will follow two simple rules: Buy American and Hire American.\n",
      "--------------------------------------------------\n",
      "\n",
      "--------------------------------------------------\n",
      "We will seek friendship and goodwill with the nations of the world – but we do so with the understanding that it is the right of all nations to put their own interests first.\n",
      "--------------------------------------------------\n",
      "\n",
      "--------------------------------------------------\n",
      "We do not seek to impose our way of life on anyone, but rather to let it shine as an example for everyone to follow.\n",
      "--------------------------------------------------\n",
      "\n",
      "--------------------------------------------------\n",
      "We will reinforce old alliances and form new ones – and unite the civilized world against Radical Islamic Terrorism, which we will eradicate completely from the face of the Earth.\n",
      "--------------------------------------------------\n",
      "\n",
      "--------------------------------------------------\n",
      "At the bedrock of our politics will be a total allegiance to the United States of America, and through our loyalty to our country, we will rediscover our loyalty to each other.\n",
      "--------------------------------------------------\n",
      "\n",
      "--------------------------------------------------\n",
      "When you open your heart to patriotism, there is no room for prejudice.\n",
      "--------------------------------------------------\n",
      "\n",
      "--------------------------------------------------\n",
      "The Bible tells us, “how good and pleasant it is when God’s people live together in unity.”\n",
      "--------------------------------------------------\n",
      "\n",
      "--------------------------------------------------\n",
      "We must speak our minds openly, debate our disagreements honestly, but always pursue solidarity.\n",
      "--------------------------------------------------\n",
      "\n",
      "--------------------------------------------------\n",
      "When America is united, America is totally unstoppable.\n",
      "--------------------------------------------------\n",
      "\n",
      "--------------------------------------------------\n",
      "There should be no fear – we are protected, and we will always be protected.\n",
      "--------------------------------------------------\n",
      "\n",
      "--------------------------------------------------\n",
      "We will be protected by the great men and women of our military and law enforcement and, most importantly, we are protected by God.\n",
      "--------------------------------------------------\n",
      "\n",
      "--------------------------------------------------\n",
      "Finally, we must think big and dream even bigger.\n",
      "--------------------------------------------------\n",
      "\n",
      "--------------------------------------------------\n",
      "In America, we understand that a nation is only living as long as it is striving.\n",
      "--------------------------------------------------\n",
      "\n",
      "--------------------------------------------------\n",
      "We will no longer accept politicians who are all talk and no action – constantly complaining but never doing anything about it.\n",
      "--------------------------------------------------\n",
      "\n",
      "--------------------------------------------------\n",
      "The time for empty talk is over.\n",
      "--------------------------------------------------\n",
      "\n",
      "--------------------------------------------------\n",
      "Now arrives the hour of action.\n",
      "--------------------------------------------------\n",
      "\n",
      "--------------------------------------------------\n",
      "Do not let anyone tell you it cannot be done.  No challenge can match the heart and fight and spirit of America.\n",
      "--------------------------------------------------\n",
      "\n",
      "--------------------------------------------------\n",
      "We will not fail. Our country will thrive and prosper again.\n",
      "--------------------------------------------------\n",
      "\n",
      "--------------------------------------------------\n",
      "We stand at the birth of a new millennium, ready to unlock the mysteries of space, to free the Earth from the miseries of disease, and to harness the energies, industries and technologies of tomorrow.\n",
      "--------------------------------------------------\n",
      "\n",
      "--------------------------------------------------\n",
      "A new national pride will stir our souls, lift our sights, and heal our divisions.\n",
      "--------------------------------------------------\n",
      "\n",
      "--------------------------------------------------\n",
      "It is time to remember that old wisdom our soldiers will never forget: that whether we are black or brown or white, we all bleed the same red blood of patriots, we all enjoy the same glorious freedoms, and we all salute the same great American Flag.\n",
      "--------------------------------------------------\n",
      "\n",
      "--------------------------------------------------\n",
      "And whether a child is born in the urban sprawl of Detroit or the windswept plains of Nebraska, they look up at the same night sky, they fill their heart with the same dreams, and they are infused with the breath of life by the same almighty Creator.\n",
      "--------------------------------------------------\n",
      "\n",
      "--------------------------------------------------\n",
      "So to all Americans, in every city near and far, small and large, from mountain to mountain, and from ocean to ocean, hear these words:\n",
      "--------------------------------------------------\n",
      "\n",
      "--------------------------------------------------\n",
      "You will never be ignored again.\n",
      "--------------------------------------------------\n",
      "\n",
      "--------------------------------------------------\n",
      "Your voice, your hopes, and your dreams, will define our American destiny. And your courage and goodness and love will forever guide us along the way.\n",
      "--------------------------------------------------\n",
      "\n",
      "--------------------------------------------------\n",
      "Together, We Will Make America Strong Again.\n",
      "--------------------------------------------------\n",
      "\n",
      "--------------------------------------------------\n",
      "We Will Make America Wealthy Again.\n",
      "--------------------------------------------------\n",
      "\n",
      "--------------------------------------------------\n",
      "We Will Make America Proud Again.\n",
      "--------------------------------------------------\n",
      "\n",
      "--------------------------------------------------\n",
      "We Will Make America Safe Again.\n",
      "--------------------------------------------------\n",
      "\n",
      "--------------------------------------------------\n",
      "And, Yes, Together, We Will Make America Great Again. Thank you, God Bless You, And God Bless America.\n",
      "--------------------------------------------------\n"
     ]
    }
   ],
   "source": [
    "for line in speech:\n",
    "    print(line.strip())\n",
    "    print(\"-\" * 50)"
   ]
  },
  {
   "cell_type": "code",
   "execution_count": 234,
   "metadata": {
    "collapsed": true
   },
   "outputs": [],
   "source": [
    "speech.close()"
   ]
  },
  {
   "cell_type": "code",
   "execution_count": 238,
   "metadata": {},
   "outputs": [
    {
     "ename": "IndexError",
     "evalue": "hi",
     "output_type": "error",
     "traceback": [
      "\u001b[1;31m---------------------------------------------------------------------------\u001b[0m",
      "\u001b[1;31mIndexError\u001b[0m                                Traceback (most recent call last)",
      "\u001b[1;32m<ipython-input-238-1492ff43309c>\u001b[0m in \u001b[0;36m<module>\u001b[1;34m()\u001b[0m\n\u001b[1;32m----> 1\u001b[1;33m \u001b[1;32mraise\u001b[0m \u001b[0mIndexError\u001b[0m\u001b[1;33m(\u001b[0m\u001b[1;34m\"hi\"\u001b[0m\u001b[1;33m)\u001b[0m\u001b[1;33m\u001b[0m\u001b[0m\n\u001b[0m",
      "\u001b[1;31mIndexError\u001b[0m: hi"
     ]
    }
   ],
   "source": [
    "raise IndexError(\"hi\")"
   ]
  },
  {
   "cell_type": "code",
   "execution_count": 241,
   "metadata": {},
   "outputs": [
    {
     "name": "stdout",
     "output_type": "stream",
     "text": [
      "hi\n"
     ]
    }
   ],
   "source": [
    "try:\n",
    "    raise IndexError(\"hi\")\n",
    "except IndexError as e:\n",
    "    print(e)"
   ]
  },
  {
   "cell_type": "code",
   "execution_count": 243,
   "metadata": {},
   "outputs": [
    {
     "name": "stdout",
     "output_type": "stream",
     "text": [
      "Error is list index out of range\n"
     ]
    }
   ],
   "source": [
    "li = []\n",
    "try:\n",
    "    li[1]\n",
    "except IndexError as e:\n",
    "    print(\"Error is %s\"%e)\n",
    "        "
   ]
  },
  {
   "cell_type": "code",
   "execution_count": 254,
   "metadata": {},
   "outputs": [
    {
     "name": "stdout",
     "output_type": "stream",
     "text": [
      "Error is list index out of range\n"
     ]
    }
   ],
   "source": [
    "li = []\n",
    "try:\n",
    "    li[1]\n",
    "except (IndexError, TypeError) as e:\n",
    "    print(\"Error is %s\"%e)"
   ]
  },
  {
   "cell_type": "code",
   "execution_count": 255,
   "metadata": {},
   "outputs": [
    {
     "name": "stdout",
     "output_type": "stream",
     "text": [
      "Error is %s\n"
     ]
    }
   ],
   "source": [
    "li = []\n",
    "try:\n",
    "    li[1]\n",
    "except:\n",
    "    print(\"Error is %s\")\n",
    "    "
   ]
  },
  {
   "cell_type": "code",
   "execution_count": 260,
   "metadata": {},
   "outputs": [
    {
     "name": "stdout",
     "output_type": "stream",
     "text": [
      "Error is list index out of range\n",
      "execute finally\n"
     ]
    }
   ],
   "source": [
    "li = []\n",
    "try:\n",
    "    li[1]\n",
    "except IndexError as e:\n",
    "    print(\"Error is %s\"%e)\n",
    "finally:\n",
    "    print(\"execute finally\")"
   ]
  },
  {
   "cell_type": "code",
   "execution_count": 261,
   "metadata": {},
   "outputs": [
    {
     "name": "stdout",
     "output_type": "stream",
     "text": [
      "execute finally\n"
     ]
    }
   ],
   "source": [
    "li = [1,2]\n",
    "try:\n",
    "    li[1]\n",
    "except IndexError as e:\n",
    "    print(\"Error is %s\"%e)\n",
    "finally:\n",
    "    print(\"execute finally\")"
   ]
  },
  {
   "cell_type": "code",
   "execution_count": 262,
   "metadata": {},
   "outputs": [
    {
     "name": "stdout",
     "output_type": "stream",
     "text": [
      "executed successfully, no error\n",
      "execute finally\n"
     ]
    }
   ],
   "source": [
    "li = [1,2]\n",
    "try:\n",
    "    li[1]\n",
    "except IndexError as e:\n",
    "    print(\"Error is %s\"%e)\n",
    "else:\n",
    "    print(\"executed successfully, no error\")\n",
    "finally:\n",
    "    print(\"execute finally\")"
   ]
  },
  {
   "cell_type": "code",
   "execution_count": 263,
   "metadata": {},
   "outputs": [
    {
     "name": "stdout",
     "output_type": "stream",
     "text": [
      "Error is list index out of range\n",
      "execute finally\n"
     ]
    }
   ],
   "source": [
    "li = [1]\n",
    "try:\n",
    "    li[1]\n",
    "except IndexError as e:\n",
    "    print(\"Error is %s\"%e)\n",
    "else:\n",
    "    print(\"executed successfully, no error\")\n",
    "finally:\n",
    "    print(\"execute finally\")"
   ]
  },
  {
   "cell_type": "code",
   "execution_count": 265,
   "metadata": {},
   "outputs": [
    {
     "ename": "IndexError",
     "evalue": "Error reading file",
     "output_type": "error",
     "traceback": [
      "\u001b[1;31m---------------------------------------------------------------------------\u001b[0m",
      "\u001b[1;31mIndexError\u001b[0m                                Traceback (most recent call last)",
      "\u001b[1;32m<ipython-input-265-0fb4673f30e4>\u001b[0m in \u001b[0;36m<module>\u001b[1;34m()\u001b[0m\n\u001b[0;32m      1\u001b[0m \u001b[0mf\u001b[0m \u001b[1;33m=\u001b[0m \u001b[0mopen\u001b[0m\u001b[1;33m(\u001b[0m\u001b[1;34m\"./donald.txt\"\u001b[0m\u001b[1;33m)\u001b[0m\u001b[1;33m\u001b[0m\u001b[0m\n\u001b[0;32m      2\u001b[0m \u001b[0mf\u001b[0m\u001b[1;33m.\u001b[0m\u001b[0mread\u001b[0m\u001b[1;33m(\u001b[0m\u001b[1;33m)\u001b[0m\u001b[1;33m\u001b[0m\u001b[0m\n\u001b[1;32m----> 3\u001b[1;33m \u001b[1;32mraise\u001b[0m \u001b[0mIndexError\u001b[0m\u001b[1;33m(\u001b[0m\u001b[1;34m\"Error reading file\"\u001b[0m\u001b[1;33m)\u001b[0m\u001b[1;33m\u001b[0m\u001b[0m\n\u001b[0m\u001b[0;32m      4\u001b[0m \u001b[0mf\u001b[0m\u001b[1;33m.\u001b[0m\u001b[0mclose\u001b[0m\u001b[1;33m(\u001b[0m\u001b[1;33m)\u001b[0m\u001b[1;33m\u001b[0m\u001b[0m\n",
      "\u001b[1;31mIndexError\u001b[0m: Error reading file"
     ]
    }
   ],
   "source": [
    "f = open(\"./donald.txt\")\n",
    "f.read()\n",
    "raise IndexError(\"Error reading file\")\n",
    "f.close()"
   ]
  },
  {
   "cell_type": "code",
   "execution_count": 266,
   "metadata": {},
   "outputs": [
    {
     "data": {
      "text/plain": [
       "True"
      ]
     },
     "execution_count": 266,
     "metadata": {},
     "output_type": "execute_result"
    }
   ],
   "source": [
    "f.readable()"
   ]
  },
  {
   "cell_type": "code",
   "execution_count": 267,
   "metadata": {
    "collapsed": true
   },
   "outputs": [],
   "source": [
    "f.close()"
   ]
  },
  {
   "cell_type": "code",
   "execution_count": 268,
   "metadata": {},
   "outputs": [
    {
     "ename": "ValueError",
     "evalue": "I/O operation on closed file",
     "output_type": "error",
     "traceback": [
      "\u001b[1;31m---------------------------------------------------------------------------\u001b[0m",
      "\u001b[1;31mValueError\u001b[0m                                Traceback (most recent call last)",
      "\u001b[1;32m<ipython-input-268-97a5eee249a2>\u001b[0m in \u001b[0;36m<module>\u001b[1;34m()\u001b[0m\n\u001b[1;32m----> 1\u001b[1;33m \u001b[0mf\u001b[0m\u001b[1;33m.\u001b[0m\u001b[0mreadable\u001b[0m\u001b[1;33m(\u001b[0m\u001b[1;33m)\u001b[0m\u001b[1;33m\u001b[0m\u001b[0m\n\u001b[0m",
      "\u001b[1;31mValueError\u001b[0m: I/O operation on closed file"
     ]
    }
   ],
   "source": [
    "f.readable()"
   ]
  },
  {
   "cell_type": "code",
   "execution_count": 269,
   "metadata": {},
   "outputs": [
    {
     "name": "stdout",
     "output_type": "stream",
     "text": [
      "Error is Error reading file\n",
      "Cleaning up files....\n"
     ]
    }
   ],
   "source": [
    "try:\n",
    "    f = open(\"./donald.txt\")\n",
    "    f.read()\n",
    "    raise IndexError(\"Error reading file\")\n",
    "except IndexError as e:\n",
    "    # Execute to handle error\n",
    "    print(\"Error is %s\"%e)\n",
    "else:\n",
    "    # Only execute when no error\n",
    "    print(\"executed successfully, no error\")\n",
    "finally:\n",
    "    # Always execute\n",
    "    print(\"Cleaning up files....\")\n",
    "    f.close()"
   ]
  },
  {
   "cell_type": "code",
   "execution_count": 270,
   "metadata": {},
   "outputs": [
    {
     "ename": "ValueError",
     "evalue": "I/O operation on closed file",
     "output_type": "error",
     "traceback": [
      "\u001b[1;31m---------------------------------------------------------------------------\u001b[0m",
      "\u001b[1;31mValueError\u001b[0m                                Traceback (most recent call last)",
      "\u001b[1;32m<ipython-input-270-97a5eee249a2>\u001b[0m in \u001b[0;36m<module>\u001b[1;34m()\u001b[0m\n\u001b[1;32m----> 1\u001b[1;33m \u001b[0mf\u001b[0m\u001b[1;33m.\u001b[0m\u001b[0mreadable\u001b[0m\u001b[1;33m(\u001b[0m\u001b[1;33m)\u001b[0m\u001b[1;33m\u001b[0m\u001b[0m\n\u001b[0m",
      "\u001b[1;31mValueError\u001b[0m: I/O operation on closed file"
     ]
    }
   ],
   "source": [
    "f.readable()"
   ]
  },
  {
   "cell_type": "code",
   "execution_count": 272,
   "metadata": {},
   "outputs": [
    {
     "name": "stdout",
     "output_type": "stream",
     "text": [
      "Stupid\n",
      "read second time\n",
      "Stupid\n"
     ]
    }
   ],
   "source": [
    "with open(\"./donald.txt\") as f:\n",
    "    print(f.read())\n",
    "    f.seek(0)\n",
    "    print(\"read second time\")\n",
    "    print(f.read())"
   ]
  },
  {
   "cell_type": "code",
   "execution_count": 273,
   "metadata": {},
   "outputs": [
    {
     "ename": "ValueError",
     "evalue": "I/O operation on closed file",
     "output_type": "error",
     "traceback": [
      "\u001b[1;31m---------------------------------------------------------------------------\u001b[0m",
      "\u001b[1;31mValueError\u001b[0m                                Traceback (most recent call last)",
      "\u001b[1;32m<ipython-input-273-97a5eee249a2>\u001b[0m in \u001b[0;36m<module>\u001b[1;34m()\u001b[0m\n\u001b[1;32m----> 1\u001b[1;33m \u001b[0mf\u001b[0m\u001b[1;33m.\u001b[0m\u001b[0mreadable\u001b[0m\u001b[1;33m(\u001b[0m\u001b[1;33m)\u001b[0m\u001b[1;33m\u001b[0m\u001b[0m\n\u001b[0m",
      "\u001b[1;31mValueError\u001b[0m: I/O operation on closed file"
     ]
    }
   ],
   "source": [
    "f.readable()"
   ]
  },
  {
   "cell_type": "code",
   "execution_count": 274,
   "metadata": {
    "collapsed": true
   },
   "outputs": [],
   "source": [
    "mydict ={\n",
    "    \"chief\": 1,\n",
    "    \"justice\": 2,\n",
    "    \"roberts\": 3,\n",
    "}"
   ]
  },
  {
   "cell_type": "code",
   "execution_count": 275,
   "metadata": {},
   "outputs": [
    {
     "name": "stdout",
     "output_type": "stream",
     "text": [
      "chief\n",
      "justice\n",
      "roberts\n"
     ]
    }
   ],
   "source": [
    "for x in mydict:\n",
    "    print(x)"
   ]
  },
  {
   "cell_type": "code",
   "execution_count": 276,
   "metadata": {},
   "outputs": [
    {
     "name": "stdout",
     "output_type": "stream",
     "text": [
      "1\n",
      "2\n",
      "3\n"
     ]
    }
   ],
   "source": [
    "for x in mydict:\n",
    "    print(mydict[x])"
   ]
  },
  {
   "cell_type": "code",
   "execution_count": 277,
   "metadata": {},
   "outputs": [
    {
     "data": {
      "text/plain": [
       "dict_keys(['chief', 'justice', 'roberts'])"
      ]
     },
     "execution_count": 277,
     "metadata": {},
     "output_type": "execute_result"
    }
   ],
   "source": [
    "mydict.keys()"
   ]
  },
  {
   "cell_type": "code",
   "execution_count": 278,
   "metadata": {},
   "outputs": [
    {
     "data": {
      "text/plain": [
       "dict_values([1, 2, 3])"
      ]
     },
     "execution_count": 278,
     "metadata": {},
     "output_type": "execute_result"
    }
   ],
   "source": [
    "mydict.values()"
   ]
  },
  {
   "cell_type": "code",
   "execution_count": 280,
   "metadata": {},
   "outputs": [
    {
     "data": {
      "text/plain": [
       "dict_items([('chief', 1), ('justice', 2), ('roberts', 3)])"
      ]
     },
     "execution_count": 280,
     "metadata": {},
     "output_type": "execute_result"
    }
   ],
   "source": [
    "mydict.items()"
   ]
  },
  {
   "cell_type": "code",
   "execution_count": 304,
   "metadata": {},
   "outputs": [
    {
     "name": "stdout",
     "output_type": "stream",
     "text": [
      "[('and', 74), ('the', 70), ('of', 48), ('our', 48), ('we', 46), ('will', 40), ('to', 37), ('is', 21), ('america', 17), ('a', 15)]\n"
     ]
    }
   ],
   "source": [
    "with open(\"./donald_trump.txt\" , encoding = 'UTF-8') as f:\n",
    "        speech = f.read().replace(\",\",'').replace(\".\",'')\n",
    "        # print(speech.split())\n",
    "        cnt = {}\n",
    "        for word in speech.split():\n",
    "            word = word.lower()\n",
    "            if word in cnt:\n",
    "                cnt[word] += 1\n",
    "            else:\n",
    "                cnt[word] = 1\n",
    "# def custom_sort(entry):\n",
    "#     return entry[1]\n",
    "\n",
    "print(sorted(cnt.items() , key = lambda x : x[1] , reverse = True)[:10])\n",
    "#print(sorted(cnt.items(), key=custom_sort, reverse=True))\n",
    "#reverse設成True的時候，會把排序的結果由預設的ascending改成descending"
   ]
  },
  {
   "cell_type": "code",
   "execution_count": 307,
   "metadata": {},
   "outputs": [
    {
     "data": {
      "text/plain": [
       "[('and', 74),\n",
       " ('the', 70),\n",
       " ('of', 48),\n",
       " ('our', 48),\n",
       " ('we', 46),\n",
       " ('will', 40),\n",
       " ('to', 37),\n",
       " ('is', 21),\n",
       " ('america', 17),\n",
       " ('a', 15)]"
      ]
     },
     "execution_count": 307,
     "metadata": {},
     "output_type": "execute_result"
    }
   ],
   "source": [
    "from collections import Counter\n",
    "\n",
    "with open('./donald_trump.txt', encoding = 'utf8') as f:\n",
    "    speech = f.read().replace(',', \"\").replace(\".\", \"\")\n",
    "    cnt = Counter()\n",
    "    for word in speech.split():\n",
    "        word = word.lower()\n",
    "        if word in cnt:\n",
    "            cnt[word] += 1\n",
    "        else:\n",
    "            cnt[word] = 1\n",
    "            \n",
    "cnt.most_common()[:10]"
   ]
  },
  {
   "cell_type": "code",
   "execution_count": 308,
   "metadata": {
    "collapsed": true
   },
   "outputs": [],
   "source": [
    "import collections"
   ]
  },
  {
   "cell_type": "code",
   "execution_count": 309,
   "metadata": {},
   "outputs": [
    {
     "data": {
      "text/plain": [
       "Counter()"
      ]
     },
     "execution_count": 309,
     "metadata": {},
     "output_type": "execute_result"
    }
   ],
   "source": [
    "collections.Counter()"
   ]
  },
  {
   "cell_type": "code",
   "execution_count": 310,
   "metadata": {
    "collapsed": true
   },
   "outputs": [],
   "source": [
    "from collections import Counter"
   ]
  },
  {
   "cell_type": "code",
   "execution_count": 311,
   "metadata": {},
   "outputs": [
    {
     "data": {
      "text/plain": [
       "Counter()"
      ]
     },
     "execution_count": 311,
     "metadata": {},
     "output_type": "execute_result"
    }
   ],
   "source": [
    "Counter()"
   ]
  },
  {
   "cell_type": "code",
   "execution_count": 312,
   "metadata": {
    "collapsed": true
   },
   "outputs": [],
   "source": [
    "import collections as c1"
   ]
  },
  {
   "cell_type": "code",
   "execution_count": 313,
   "metadata": {},
   "outputs": [
    {
     "data": {
      "text/plain": [
       "Counter()"
      ]
     },
     "execution_count": 313,
     "metadata": {},
     "output_type": "execute_result"
    }
   ],
   "source": [
    "c1.Counter()"
   ]
  },
  {
   "cell_type": "code",
   "execution_count": 314,
   "metadata": {
    "collapsed": true
   },
   "outputs": [],
   "source": [
    "from collections import Counter as cntr"
   ]
  },
  {
   "cell_type": "code",
   "execution_count": 315,
   "metadata": {},
   "outputs": [
    {
     "data": {
      "text/plain": [
       "Counter()"
      ]
     },
     "execution_count": 315,
     "metadata": {},
     "output_type": "execute_result"
    }
   ],
   "source": [
    "cntr()"
   ]
  },
  {
   "cell_type": "code",
   "execution_count": 316,
   "metadata": {},
   "outputs": [
    {
     "name": "stdout",
     "output_type": "stream",
     "text": [
      "Requirement already satisfied: jieba in c:\\users\\i3-4130\\anaconda3\\lib\\site-packages\n"
     ]
    }
   ],
   "source": [
    "!pip install jieba"
   ]
  },
  {
   "cell_type": "code",
   "execution_count": 317,
   "metadata": {
    "collapsed": true
   },
   "outputs": [],
   "source": [
    "import jieba"
   ]
  },
  {
   "cell_type": "code",
   "execution_count": 318,
   "metadata": {},
   "outputs": [
    {
     "data": {
      "text/plain": [
       "<generator object Tokenizer.cut at 0x0477A600>"
      ]
     },
     "execution_count": 318,
     "metadata": {},
     "output_type": "execute_result"
    }
   ],
   "source": [
    "jieba.cut(\"很多獨立樂迷自以為獨立音樂就是高尚瞧不起流行音樂\")"
   ]
  },
  {
   "cell_type": "code",
   "execution_count": 334,
   "metadata": {},
   "outputs": [
    {
     "name": "stdout",
     "output_type": "stream",
     "text": [
      "很多\n",
      "獨立樂迷\n",
      "自以\n",
      "為\n",
      "獨立\n",
      "音樂\n",
      "就是\n",
      "高尚\n",
      "瞧不起\n",
      "流行\n",
      "音樂\n"
     ]
    }
   ],
   "source": [
    "for word in jieba.cut(\"很多獨立樂迷自以為獨立音樂就是高尚瞧不起流行音樂\"):\n",
    "    print(word)"
   ]
  },
  {
   "cell_type": "code",
   "execution_count": 393,
   "metadata": {},
   "outputs": [
    {
     "name": "stdout",
     "output_type": "stream",
     "text": [
      "[('的', 285), ('我們', 84), ('與', 45), ('在', 39), ('台灣', 37), ('和', 33), ('是', 29), ('要', 28), ('國家', 27), ('一個', 27), ('新政府', 27), ('經濟', 26), ('這個', 24), ('讓', 24), ('我', 23), ('也', 22), ('年', 22), ('對', 21), ('民主', 21), ('會', 21), ('發展', 20), ('有', 19), ('來', 19), ('社會', 19), ('人民', 18), ('就是', 18), ('共同', 15), ('未來', 15), ('改革', 15), ('議題', 14), ('司法', 13), ('新', 12), ('人', 11), ('都', 11), ('及', 10), ('為', 10), ('政府', 10), ('合作', 10), ('區域', 10), ('上', 10), ('和平', 9), ('了', 9), ('於', 9), ('必須', 9), ('係', 9), ('總統', 8), ('以及', 8), ('不', 8), ('去', 8), ('一起', 8), ('對立', 8), ('輕人', 8), ('打造', 8), ('責任', 8), ('模式', 8), ('這', 8), ('全球', 8), ('把', 8), ('兩岸', 8), ('就', 7), ('問題', 7), ('改變', 7), ('安全', 7), ('推動', 7), ('積極', 7), ('大家', 6), ('已經', 6), ('最', 6), ('透過', 6), ('每', 6), ('需要', 6), ('金', 6), ('結構', 6), ('事情', 6), ('可以', 6), ('努力', 6), ('建立', 6), ('承擔', 5), ('中華民國', 5), ('重要', 5), ('機制', 5), ('過程', 5), ('從', 5), ('沒', 5), ('處境', 5), ('因為', 5), ('團結', 5), ('這是', 5), ('資源', 5), ('長', 5), ('轉型', 5), ('精神', 5), ('關鍵', 5), ('相關', 5), ('將會', 5), ('穩定', 5), ('兩岸關', 5), ('選舉', 4), ('並且', 4), ('告訴', 4), ('堅定', 4), ('生活', 4), ('所', 4), ('解決', 4), ('不會', 4), ('該', 4), ('整個', 4), ('決心', 4), ('制度', 4), ('如果', 4), ('環境', 4), ('失去', 4), ('他們', 4), ('自己', 4), ('但是', 4), ('勇敢', 4), ('價值', 4), ('追求', 4), ('永續', 4), ('強化', 4), ('提升', 4), ('這些', 4), ('溝通', 4), ('規劃', 4), ('應該', 4), ('處理', 4), ('工作', 4), ('曾', 4), ('集體', 4), ('協商', 4), ('基礎', 4), ('公平', 4), ('公民', 4), ('真相', 4), ('今天', 4), ('政治', 4), ('20', 4), ('國際', 4), ('各位', 3), ('各國', 3), ('國人', 3), ('同胞', 3), ('感謝', 3), ('信任', 3), ('完成', 3), ('再', 3), ('世界', 3), ('方式', 3), ('參', 3), ('其他', 3), ('期待', 3), ('忘記', 3), ('領導', 3), ('只是', 3), ('地', 3), ('向', 3), ('更好', 3), ('能源', 3), ('持續', 3), ('所有', 3), ('越來', 3), ('越', 3), ('沒有', 3), ('之內', 3), ('做', 3), ('路', 3), ('第一', 3), ('不要', 3), ('更', 3), ('文化', 3), ('企業', 3), ('以', 3), ('創新', 3), ('自由', 3), ('包括', 3), ('等', 3), ('政策', 3), ('內', 3), ('緊密', 3), ('同時', 3), ('國土', 3), ('不能', 3), ('過去', 3), ('各種', 3), ('時代', 3), ('地球', 3), ('尤其', 3), ('態度', 3), ('來面', 3), ('由', 3), ('不同', 3), ('顧', 3), ('而', 3), ('要承擔', 3), ('我會', 3), ('和解', 3), ('歷史', 3), ('目標', 3), ('而是', 3), ('秉持', 3), ('原則', 3), ('民族', 3), ('有效', 3), ('參與', 3), ('經貿', 3), ('交流', 3), ('話', 3), ('爭議', 3), ('史事', 3), ('全球性', 3), ('新時代', 3), ('一天', 3), ('守護', 3), ('友邦', 2), ('元首', 2), ('代表', 2), ('現場', 2), ('全體', 2), ('陳', 2), ('建仁', 2), ('總統府', 2), ('副', 2), ('這塊', 2), ('土地', 2), ('實現', 2), ('種種', 2), ('作為', 2), ('信念', 2), ('捍衛', 2), ('親愛的', 2), ('做到', 2), ('選擇', 2), ('難關', 2), ('所以', 2), ('邀請', 2), ('扛起', 2), ('奮鬥', 2), ('這裡', 2), ('請給', 2), ('機會', 2), ('使命', 2), ('展現', 2), ('教育', 2), ('逐漸', 2), ('缺乏', 2), ('動能', 2), ('人口', 2), ('照體系', 2), ('汙染', 2), ('嚴重', 2), ('著', 2), ('家庭', 2), ('很多', 2), ('破洞', 2), ('特別', 2), ('一步', 2), ('立刻', 2), ('展開', 2), ('行動', 2), ('這一條', 2), ('幫助', 2), ('突破', 2), ('世代', 2), ('手上', 2), ('活力', 2), ('完整', 2), ('產業', 2), ('另外', 2), ('將', 2), ('及區域', 2), ('極參', 2), ('南向', 2), ('對外', 2), ('相信', 2), ('成長', 2), ('保障', 2), ('勞工', 2), ('時刻', 2), ('能力', 2), ('力量', 2), ('起來', 2), ('相互', 2), ('利用', 2), ('規畫', 2), ('盡', 2), ('國民', 2), ('逐步', 2), ('調整', 2), ('嚴肅', 2), ('氣候', 2), ('變遷', 2), ('防治', 2), ('只有', 2), ('第二', 2), ('事件', 2), ('它', 2), ('同理', 2), ('心', 2), ('受害者', 2), ('家屬', 2), ('發生', 2), ('站', 2), ('提出', 2), ('方法', 2), ('防止', 2), ('治安', 2), ('會用', 2), ('委員會', 2), ('經有過', 2), ('做法', 2), ('召開', 2), ('國是', 2), ('會議', 2), ('無論', 2), ('期照', 2), ('一樣', 2), ('民間', 2), ('社區', 2), ('妥善', 2), ('體系', 2), ('市場', 2), ('臨', 2), ('第三', 2), ('正義', 2), ('多元', 2), ('深化', 2), ('能夠', 2), ('正義的', 2), ('調查', 2), ('依據', 2), ('此', 2), ('不再', 2), ('原住', 2), ('現階段', 2), ('無法', 2), ('被', 2), ('打擊', 2), ('犯罪', 2), ('後', 2), ('普遍', 2), ('回應', 2), ('法律', 2), ('全民', 2), ('第四', 2), ('變動', 2), ('當中', 2), ('一直', 2), ('不可或缺', 2), ('情勢', 2), ('參與區域', 2), ('事務', 2), ('不但', 2), ('變得', 2), ('可能', 2), ('做出', 2), ('貢獻', 2), ('共享', 2), ('關', 2), ('意見', 2), ('成為', 2), ('建構', 2), ('進程', 2), ('缺席', 2), ('也將', 2), ('維持', 2), ('形成', 2), ('憲法', 2), ('開發', 2), ('之間', 2), ('1992', 2), ('諒解', 2), ('求同', 2), ('存異', 2), ('認知', 2), ('實', 2), ('多年', 2), ('成果', 2), ('既有', 2), ('他', 2), ('兩個', 2), ('互動', 2), ('外交', 2), ('謝謝', 2), ('以來', 2), ('友好', 2), ('新興', 2), ('中', 2), ('感動', 2), ('不過', 2), ('意識', 2), ('身上', 2), ('倒退', 2), ('以前', 2), ('價值觀', 2), ('只要', 2), ('結束', 2), ('歷史會', 2), ('記得', 2), ('貴賓', 1), ('駐台', 1), ('使節', 1), ('好', 1), ('朋友', 1), ('好感', 1), ('謝', 1), ('剛剛', 1), ('裡面', 1), ('正式', 1), ('宣誓', 1), ('就任', 1), ('第十四', 1), ('任總統', 1), ('栽培', 1), ('第三次', 1), ('政黨', 1), ('輪替', 1), ('克服', 1), ('確定', 1), ('因素', 1), ('順利渡', 1), ('過長', 1), ('達四個', 1), ('月', 1), ('交接', 1), ('期', 1), ('政權', 1), ('平移', 1), ('轉台灣', 1), ('一次', 1), ('用行動', 1), ('一群', 1), ('自由人', 1), ('民主自由', 1), ('這段', 1), ('旅程', 1), ('其中', 1), ('一月', 1), ('十六日', 1), ('結果', 1), ('解讀', 1), ('四個', 1), ('字', 1), ('此時', 1), ('此刻', 1), ('很困', 1), ('難', 1), ('迫切需要', 1), ('執', 1), ('政者', 1), ('義無反顧', 1), ('這一點', 1), ('眼前', 1), ('誠實面', 1), ('演說', 1), ('人而偉', 1), ('大全', 1), ('體國民', 1), ('才', 1), ('國家偉大', 1), ('支持者', 1), ('國家團', 1), ('結是', 1), ('深切', 1), ('誠懇', 1), ('呼籲', 1), ('拋下', 1), ('成見', 1), ('拋下過', 1), ('新時', 1), ('代交', 1), ('給我們', 1), ('中身', 1), ('全國', 1), ('宣示', 1), ('將領導', 1), ('絕不退', 1), ('縮為', 1), ('路並', 1), ('不好', 1), ('走', 1), ('正面', 1), ('迎', 1), ('一切', 1), ('挑戰', 1), ('不改', 1), ('破產', 1), ('僵化', 1), ('脈動', 1), ('脫節', 1), ('十分', 1), ('有限', 1), ('舊', 1), ('代工', 1), ('已經面', 1), ('臨瓶', 1), ('頸', 1), ('國家極', 1), ('急速', 1), ('老化', 1), ('卻', 1), ('尚未', 1), ('健全', 1), ('出生率', 1), ('低落', 1), ('完善', 1), ('托育', 1), ('卻始', 1), ('終遙', 1), ('遙無期', 1), ('仍然', 1), ('財政並', 1), ('不樂觀', 1), ('食品安全', 1), ('困擾', 1), ('貧富', 1), ('差距', 1), ('網還', 1), ('強調', 1), ('輕人處', 1), ('低薪', 1), ('人生', 1), ('動彈', 1), ('不得', 1), ('充滿', 1), ('無奈', 1), ('茫然', 1), ('友善', 1), ('多個', 1), ('菁英', 1), ('出現', 1), ('不足以', 1), ('整體', 1), ('變好', 1), ('期許', 1), ('任期', 1), ('根本', 1), ('想', 1), ('事', 1), ('雖然', 1), ('辦法', 1), ('幫', 1), ('加薪', 1), ('我願', 1), ('意承諾', 1), ('一點', 1), ('時間', 1), ('請', 1), ('跟', 1), ('走上', 1), ('必定', 1), ('困境', 1), ('正義把', 1), ('交到', 1), ('下一代', 1), ('重大', 1), ('以下', 1), ('幾件', 1), ('首先', 1), ('所必須', 1), ('艱鉅', 1), ('妄自菲薄', 1), ('信心', 1), ('別', 1), ('優勢', 1), ('海洋', 1), ('靭', 1), ('性', 1), ('高', 1), ('素', 1), ('質', 1), ('人力', 1), ('資源務實', 1), ('可靠', 1), ('工程', 1), ('師', 1), ('鏈', 1), ('敏捷', 1), ('靈活', 1), ('中小', 1), ('永不', 1), ('屈服', 1), ('創業', 1), ('脫胎', 1), ('換骨', 1), ('從現', 1), ('起', 1), ('下定', 1), ('走出', 1), ('一條', 1), ('就業', 1), ('分配', 1), ('核心', 1), ('第一步', 1), ('自主性', 1), ('加強', 1), ('連結積', 1), ('多邊', 1), ('雙邊', 1), ('貿易', 1), ('談判', 1), ('TPPRCEP', 1), ('格局', 1), ('多元性', 1), ('告別', 1), ('以往', 1), ('過於依賴', 1), ('單一市場', 1), ('現象', 1), ('除此之外', 1), ('唯有', 1), ('激發', 1), ('才能', 1), ('當前', 1), ('停滯', 1), ('不前', 1), ('出口', 1), ('需作', 1), ('為雙', 1), ('引擎', 1), ('生產', 1), ('互為', 1), ('表裡', 1), ('外貿易', 1), ('連結', 1), ('優先', 1), ('五大', 1), ('研發', 1), ('計畫', 1), ('藉', 1), ('重新', 1), ('塑造', 1), ('競爭力', 1), ('勞動', 1), ('生產力', 1), ('權益', 1), ('薪資', 1), ('能', 1), ('同步', 1), ('有系', 1), ('統性', 1), ('跨部會', 1), ('聯手', 1), ('集結', 1), ('催生', 1), ('結合產業', 1), ('佈', 1), ('局', 1), ('拋棄', 1), ('零碎', 1), ('短視', 1), ('近利', 1), ('眼光', 1), ('均衡', 1), ('中央', 1), ('整合', 1), ('地方', 1), ('充分', 1), ('發揮區域', 1), ('聯合', 1), ('治理', 1), ('像', 1), ('無止', 1), ('地揮', 1), ('霍', 1), ('自然', 1), ('健康', 1), ('控制', 1), ('嚴格', 1), ('關更要', 1), ('走向', 1), ('循環', 1), ('廢棄物', 1), ('轉換', 1), ('再生', 1), ('以永續', 1), ('觀念', 1), ('看待', 1), ('保育', 1), ('災害', 1), ('網', 1), ('第二件', 1), ('網這些', 1), ('幾件關', 1), ('兒少', 1), ('隨機', 1), ('殺', 1), ('社會震', 1), ('驚不過', 1), ('永遠', 1), ('震', 1), ('驚', 1), ('有人', 1), ('替', 1), ('承受', 1), ('傷痛', 1), ('線', 1), ('覺得', 1), ('不幸', 1), ('時候', 1), ('這一邊', 1), ('除了', 1), ('之外', 1), ('更應', 1), ('全力', 1), ('悲劇', 1), ('一再', 1), ('心理健康', 1), ('各個', 1), ('面向', 1), ('補起', 1), ('反毒', 1), ('方面', 1), ('攸關', 1), ('生存', 1), ('不應', 1), ('遲疑', 1), ('躁進', 1), ('擔任', 1), ('召集人', 1), ('緊鑼密', 1), ('鼓', 1), ('籌備', 1), ('之中', 1), ('一些', 1), ('發動', 1), ('協商來', 1), ('所有人', 1), ('什麼', 1), ('階層', 1), ('職業', 1), ('一年', 1), ('可行', 1), ('改革方案', 1), ('還是', 1), ('公務員', 1), ('退休', 1), ('得到', 1), ('優質', 1), ('平價', 1), ('普及', 1), ('顧系統', 1), ('總動員', 1), ('主導', 1), ('鼓勵', 1), ('發揮', 1), ('主義的', 1), ('互助', 1), ('一套', 1), ('老年人', 1), ('熟悉', 1), ('安心', 1), ('享受', 1), ('老年', 1), ('每一個', 1), ('照顧', 1), ('壓力', 1), ('減輕照', 1), ('老人', 1), ('完全', 1), ('變成', 1), ('按部就班', 1), ('執行', 1), ('超高', 1), ('齡社會', 1), ('做好', 1), ('準備', 1), ('第三件', 1), ('正義在', 1), ('會持續', 1), ('符合', 1), ('平等', 1), ('開放', 1), ('透明人', 1), ('權的', 1), ('更加', 1), ('進化', 1), ('上路', 1), ('先', 1), ('找', 1), ('出面', 1), ('對過', 1), ('成立', 1), ('用', 1), ('最誠懇', 1), ('謹慎', 1), ('處理過', 1), ('真正', 1), ('記取', 1), ('那個', 1), ('錯誤', 1), ('將從', 1), ('整理', 1), ('出發', 1), ('預計', 1), ('三年', 1), ('正義調', 1), ('查報', 1), ('告書', 1), ('報告', 1), ('揭示', 1), ('進行後續', 1), ('挖掘', 1), ('彌平', 1), ('傷痕', 1), ('釐', 1), ('清責任', 1), ('以後過', 1), ('分裂', 1), ('原因', 1), ('往前走', 1), ('動力', 1), ('同樣', 1), ('相同', 1), ('職典', 1), ('禮原', 1), ('住', 1), ('小朋友', 1), ('唱國歌', 1), ('之前', 1), ('先唱', 1), ('部落', 1), ('傳統', 1), ('古調', 1), ('這象', 1), ('徵了', 1), ('不敢', 1), ('島上', 1), ('先來後到', 1), ('順序', 1), ('道歉', 1), ('重建', 1), ('原民史觀', 1), ('自治', 1), ('復', 1), ('育語', 1), ('言', 1), ('生活照', 1), ('我要', 1), ('接下', 1), ('最關心', 1), ('親近', 1), ('正義最', 1), ('一道', 1), ('防線', 1), ('功能', 1), ('感受', 1), ('今年', 1), ('十月', 1), ('實際', 1), ('社會力', 1), ('進來', 1), ('需求', 1), ('家務事', 1), ('第四件', 1), ('三十年', 1), ('對亞洲', 1), ('或是', 1), ('最劇烈', 1), ('時期', 1), ('關切', 1), ('課題', 1), ('角色', 1), ('近年', 1), ('來區域', 1), ('快速', 1), ('善用', 1), ('實力', 1), ('籌碼', 1), ('無足', 1), ('輕重', 1), ('甚至', 1), ('被邊', 1), ('緣化', 1), ('喪失', 1), ('自主', 1), ('權我們', 1), ('危機', 1), ('但', 1), ('轉機', 1), ('中許', 1), ('多國家', 1), ('高度', 1), ('關聯', 1), ('互補', 1), ('亞洲', 1), ('乃至', 1), ('亞太區域', 1), ('形塑', 1), ('策略', 1), ('為區域', 1), ('成員', 1), ('體意識', 1), ('人才', 1), ('擴大經濟', 1), ('規模', 1), ('基', 1), ('這樣', 1), ('科技', 1), ('各層面', 1), ('成員廣泛', 1), ('增進', 1), ('東協', 1), ('印度', 1), ('願意', 1), ('對岸', 1), ('坦誠交換', 1), ('尋求', 1), ('協力', 1), ('可能性', 1), ('亞太地區', 1), ('複', 1), ('雜而', 1), ('一環', 1), ('台灣會', 1), ('維護者', 1), ('參與絕', 1), ('致力', 1), ('更會', 1), ('促成', 1), ('內部', 1), ('凝聚', 1), ('共識', 1), ('一致', 1), ('立場', 1), ('達成', 1), ('積極溝', 1), ('通者', 1), ('將和相關', 1), ('各方', 1), ('常態', 1), ('隨時', 1), ('交換', 1), ('誤判', 1), ('互信', 1), ('將謹守', 1), ('平原', 1), ('則', 1), ('利益', 1), ('依照', 1), ('當選', 1), ('有責任', 1), ('主權', 1), ('領土', 1), ('東海及', 1), ('南海', 1), ('主張', 1), ('應擱', 1), ('置', 1), ('現有', 1), ('兩會', 1), ('思維進', 1), ('行溝', 1), ('通協', 1), ('商達成', 1), ('若干', 1), ('尊重', 1), ('這個歷', 1), ('92', 1), ('之', 1), ('雙方', 1), ('累積', 1), ('現狀', 1), ('珍惜', 1), ('維護並', 1), ('事實', 1), ('條例', 1), ('及其', 1), ('執政黨', 1), ('放下', 1), ('包袱', 1), ('良性', 1), ('對話', 1), ('造福', 1), ('所講', 1), ('包含', 1), ('幾個', 1), ('元素', 1), ('兩會會', 1), ('談的歷', 1), ('實與', 1), ('這是歷', 1), ('現行', 1), ('憲政體制', 1), ('兩岸過', 1), ('民意', 1), ('第五', 1), ('第五件', 1), ('善', 1), ('走向世界', 1), ('走進', 1), ('許多來', 1), ('自', 1), ('使', 1), ('節團', 1), ('久', 1), ('官方', 1), ('投資', 1), ('分享', 1), ('經驗', 1), ('夥', 1), ('伴關', 1), ('模範生', 1), ('民主化', 1), ('始終', 1), ('堅持', 1), ('自由民主', 1), ('及人權', 1), ('普世價值', 1), ('加入', 1), ('同盟', 1), ('繼續', 1), ('美國', 1), ('日本', 1), ('歐洲', 1), ('國家的關', 1), ('上推', 1), ('動', 1), ('全方位', 1), ('會積', 1), ('規則', 1), ('制定', 1), ('維護', 1), ('秩序', 1), ('融入', 1), ('防制', 1), ('暖化', 1), ('行政院', 1), ('設立', 1), ('專責', 1), ('減碳', 1), ('辦', 1), ('公室', 1), ('根據', 1), ('COP21', 1), ('巴黎', 1), ('協議', 1), ('規定', 1), ('定期', 1), ('檢討', 1), ('溫室', 1), ('氣體', 1), ('減量', 1), ('攜手', 1), ('維護永續', 1), ('支持', 1), ('並參', 1), ('道', 1), ('救援', 1), ('醫療', 1), ('援助', 1), ('疾病', 1), ('研究', 1), ('反恐', 1), ('跨國', 1), ('台灣成', 1), ('夥伴', 1), ('結語', 1), ('1996', 1), ('第一次', 1), ('直選到', 1), ('剛好', 1), ('年過', 1), ('幾任', 1), ('之下', 1), ('成功', 1), ('渡過', 1), ('許多', 1), ('面', 1), ('經有', 1), ('過許', 1), ('多', 1), ('人心', 1), ('故事', 1), ('正', 1), ('如同', 1), ('焦慮', 1), ('不安', 1), ('矛盾', 1), ('看到', 1), ('進步', 1), ('保守', 1), ('經激', 1), ('發出', 1), ('時', 1), ('動員', 1), ('能量', 1), ('了解', 1), ('決問題', 1), ('政治工作者', 1), ('清楚', 1), ('認識', 1), ('肩負', 1), ('會前', 1), ('進', 1), ('選項', 1), ('推向', 1), ('下一個', 1), ('階段', 1), ('輸', 1), ('贏現', 1), ('則是關', 1), ('幸福', 1), ('決現', 1), ('則是', 1), ('形態', 1), ('綁', 1), ('架', 1), ('有效率', 1), ('實質', 1), ('照料', 1), ('務實', 1), ('意義', 1), ('主人', 1), ('一定', 1), ('一代人', 1), ('誕生', 1), ('演講', 1), ('開始', 1), ('一刻起', 1), ('擔子', 1), ('交在', 1), ('看見', 1), ('繁榮尊', 1), ('嚴團結', 1), ('自信', 1), ('公義都', 1), ('痕跡', 1), ('2016', 1), ('帶', 1), ('方向', 1), ('感到', 1), ('驕傲', 1), ('剛才', 1), ('表演', 1), ('節目', 1), ('一首', 1), ('歌曲', 1), ('一句', 1), ('很', 1), ('歌', 1), ('詞台', 1), ('語現', 1), ('彼', 1), ('ㄟ', 1), ('兩千', 1), ('三百', 1), ('萬', 1), ('等待', 1), ('現在', 1), ('那', 1), ('明天', 1), ('台灣人', 1)]\n"
     ]
    }
   ],
   "source": [
    "import jieba\n",
    "with open(\"./Tsai Ing-wen.txt\" , encoding = 'UTF-8') as f:\n",
    "        speech = f.read().replace(\"，\",'').replace(\"、\",'').replace(\"。\",'').replace(\"：\",'').replace(\"「\",'').replace(\"」\",'').replace(\"（\",'').replace(\"）\",'').replace(\"；\",'')\n",
    "        cnt = {}\n",
    "        conn = \"\"\n",
    "        for word1 in speech.split():\n",
    "                conn = conn + word1                                        \n",
    "        for word2 in jieba.cut(conn):\n",
    "            if word2 in cnt:\n",
    "                cnt[word2] += 1\n",
    "            else:\n",
    "                cnt[word2] = 1\n",
    "print(sorted(cnt.items() , key = lambda x : x[1] , reverse = True))"
   ]
  },
  {
   "cell_type": "code",
   "execution_count": null,
   "metadata": {
    "collapsed": true
   },
   "outputs": [],
   "source": []
  }
 ],
 "metadata": {
  "kernelspec": {
   "display_name": "Python 3",
   "language": "python",
   "name": "python3"
  },
  "language_info": {
   "codemirror_mode": {
    "name": "ipython",
    "version": 3
   },
   "file_extension": ".py",
   "mimetype": "text/x-python",
   "name": "python",
   "nbconvert_exporter": "python",
   "pygments_lexer": "ipython3",
   "version": "3.6.1"
  }
 },
 "nbformat": 4,
 "nbformat_minor": 2
}
