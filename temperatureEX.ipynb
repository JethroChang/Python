{
 "cells": [
  {
   "cell_type": "code",
   "execution_count": 15,
   "metadata": {},
   "outputs": [
    {
     "name": "stdout",
     "output_type": "stream",
     "text": [
      "Please input Fah:54\n",
      "Please input Cel:\n",
      "12.222222222222221\n"
     ]
    }
   ],
   "source": [
    "F = input(\"Please input Fah:\")\n",
    "C = input(\"Please input Cel:\")\n",
    "if F == '':\n",
    "    F = int(C)*(9/5)+32\n",
    "    print(F)\n",
    "if C == '' :\n",
    "    C = (int(F)-32)*5/9\n",
    "    print(C)"
   ]
  },
  {
   "cell_type": "code",
   "execution_count": 16,
   "metadata": {},
   "outputs": [
    {
     "name": "stdout",
     "output_type": "stream",
     "text": [
      "Please input Fah:\n",
      "Please input Cel:32\n",
      "89.6\n"
     ]
    }
   ],
   "source": [
    "F = input(\"Please input Fah:\")\n",
    "C = input(\"Please input Cel:\")\n",
    "if F == '':\n",
    "    F = int(C)*(9/5)+32\n",
    "    print(F)\n",
    "if C == '' :\n",
    "    C = (int(F)-32)*5/9\n",
    "    print(C)"
   ]
  },
  {
   "cell_type": "code",
   "execution_count": null,
   "metadata": {
    "collapsed": true
   },
   "outputs": [],
   "source": []
  }
 ],
 "metadata": {
  "kernelspec": {
   "display_name": "Python 3",
   "language": "python",
   "name": "python3"
  },
  "language_info": {
   "codemirror_mode": {
    "name": "ipython",
    "version": 3
   },
   "file_extension": ".py",
   "mimetype": "text/x-python",
   "name": "python",
   "nbconvert_exporter": "python",
   "pygments_lexer": "ipython3",
   "version": "3.6.1"
  }
 },
 "nbformat": 4,
 "nbformat_minor": 2
}
