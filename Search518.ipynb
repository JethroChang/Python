{
 "cells": [
  {
   "cell_type": "code",
   "execution_count": 4,
   "metadata": {},
   "outputs": [],
   "source": [
    "from collections import Counter\n",
    "from bs4 import BeautifulSoup\n",
    "import requests\n",
    "import csv\n",
    "\n",
    "nt = Counter()\n",
    "\n",
    "occ = [\"資料庫\",\"data analyst\",\"hadoop\",\"big data\",\"軟體\"]\n",
    "for oc in occ:\n",
    "    res = requests.get(\"https://www.518.com.tw/job-index.html?ad=\"+oc+\"&aa=&ab=&ac=&am=&i=\")\n",
    "    #取所需職務網頁\n",
    "    soup = BeautifulSoup(res.text, 'lxml')\n",
    "    totalpage = soup.select(\".pagecountnum > span\")[0].text.split(\"/\")[1]\n",
    "    #取總頁數\n",
    "    for i in range(1,int(totalpage)):\n",
    "        res2 = requests.get(\"https://www.518.com.tw/job-index-P-\"+str(i)+\".html?i=1&am=1&ad=\"+oc+\"&xq=1\")\n",
    "        soup2 = BeautifulSoup(res2.text, 'lxml')\n",
    "        for hr in soup2.select(\".title > a\"):\n",
    "            res3 = requests.get(hr['href'])\n",
    "            soup3=BeautifulSoup(res3.text,'lxml')\n",
    "            data = []\n",
    "            for tr in soup3.select('.job-detail-box > dl'):\n",
    "                data.append(tr.text)            \n",
    "                for tr2 in \" \".join(data).replace(\"\\n\",\"\").split('擅長工具：')[1].split('工作技能：')[0].split('、'):\n",
    "                    if tr2 == \"不拘\":\n",
    "                        pass\n",
    "                    elif tr2 in cnt:\n",
    "                        cnt[tr2]+=1\n",
    "                    else:\n",
    "                        cnt[tr2]=1\n",
    "#print(cnt.most_common(20))\n",
    "#type(cnt.most_common(20)[0]) Tuple\n",
    "result = []\n",
    "for tup in cnt.most_common(20):\n",
    "#可以用 .iteritems()(python 2) or .items()(python 3)取出counter object裡面的Tuple\n",
    "    skill = {}\n",
    "    skill[tup[0]] = tup[1]\n",
    "    result.append(skill)\n",
    "with open('518.csv','wt') as f:\n",
    "    w = csv.writer(f)\n",
    "    for items in result:\n",
    "        w.writerow(items.keys())\n",
    "        w.writerow(items.values())"
   ]
  },
  {
   "cell_type": "code",
   "execution_count": null,
   "metadata": {
    "collapsed": true
   },
   "outputs": [],
   "source": []
  }
 ],
 "metadata": {
  "kernelspec": {
   "display_name": "Python 3",
   "language": "python",
   "name": "python3"
  },
  "language_info": {
   "codemirror_mode": {
    "name": "ipython",
    "version": 3
   },
   "file_extension": ".py",
   "mimetype": "text/x-python",
   "name": "python",
   "nbconvert_exporter": "python",
   "pygments_lexer": "ipython3",
   "version": "3.6.1"
  }
 },
 "nbformat": 4,
 "nbformat_minor": 2
}
